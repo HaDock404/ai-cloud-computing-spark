{
 "cells": [
  {
   "cell_type": "markdown",
   "metadata": {},
   "source": [
    "# ai-cloud-computing"
   ]
  },
  {
   "cell_type": "markdown",
   "metadata": {},
   "source": [
    "## Introduction <br>\n",
    "\n",
    "The very young AgriTech start-up, named “**Fruits**!”,\n",
    "seeks to offer innovative solutions for fruit harvesting.\n",
    "\n",
    "The company's desire is to preserve the biodiversity of fruits\n",
    "by allowing specific treatments for each species of fruit\n",
    "by developing intelligent picking robots.\n",
    "\n",
    "The start-up initially wishes to make itself known by putting\n",
    "available to the general public a mobile application which would allow\n",
    "users to take a photo of a fruit and get information about that fruit.\n",
    "\n",
    "For the start-up, this application would raise awareness among the general public\n",
    "to fruit biodiversity and to set up a first version of the engine\n",
    "classification of fruit images.\n",
    "\n",
    "In addition, the development of the mobile application will make it possible to build\n",
    "a first version of the **Big Data** architecture required.\n",
    "\n",
    "## Objectives in this project\n",
    "\n",
    "1. Develop a first data processing chain that <br />\n",
    "   will include **preprocessing** and a **dimension reduction** step.\n",
    "2. Take into account that <u>the volume of data will increase <br />\n",
    "   very quickly</u>after delivery of this project, which involves:\n",
    " - Deploy data processing in a **Big Data** environment\n",
    " - Develop scripts in **pyspark** to perform **distributed computing**"
   ]
  },
  {
   "cell_type": "markdown",
   "metadata": {},
   "source": [
    "## Technical choices <br>\n",
    "We must take into account the very rapid increase in the volume of data after delivery of the project. This is why it is important to introduce a distributed calculation methodology upstream. To do this we will create **pyspark** scripts. <br>\n",
    "**pySpark** is a way to communicate\n",
    "with **Spark** via the **Python** language.<br />\n",
    "**Spark**, for its part, is a tool that allows you to manage and coordinate\n",
    "performing tasks on data across a group of computers. <br />\n",
    "<u>Spark (or Apache Spark) is an open source distributed computing framework <br />\n",
    "in-memory for processing and analyzing massive data</u>."
   ]
  },
  {
   "cell_type": "markdown",
   "metadata": {},
   "source": [
    "![Schéma de Spark](img/spark-schema.png)\n",
    "\n",
    "*The driver (sometimes called “Spark Session”) distributes and schedules\n",
    "the tasks between the different executors which execute them and allow\n",
    "distributed processing. He is responsible for executing the code\n",
    "on the different machines.\n",
    "\n",
    "Each executor is a separate Java Virtual Machine (JVM) process<br />\n",
    "of which it is possible to configure the number of CPUs and the quantity of\n",
    "memory allocated to it. <br />\n",
    "Only one task can process one data split at a time.*\n",
    "\n",
    "In both environments (Local and Cloud) we will therefore use **Spark**\n",
    "and we will exploit it through python scripts using **PySpark**.\n",
    "\n",
    "In the <u>local version</u> of our script we **simulate\n",
    "distributed computing** in order to validate that our solution works.<br />\n",
    "In the <u>cloud version</u> we **perform operations on a machine cluster**."
   ]
  },
  {
   "cell_type": "markdown",
   "metadata": {},
   "source": [
    "## Transfert Learning\n",
    "\n",
    "**Transfer learning** consists of\n",
    "to use the knowledge already acquired\n",
    "by a trained model (here **MobileNetV2**) for\n",
    "adapt it to our problem.\n",
    "\n",
    "We're going to provide the model with our images, and we're going to\n",
    "<u>recover the penultimate layer</u> of the model.\n",
    "Indeed the last model layer is a softmax layer\n",
    "which allows the classification of images which we do\n",
    "we do not want in this project.\n",
    "\n",
    "The penultimate layer corresponds to a **vector\n",
    "reduced** in dimension (1,1,1280).\n",
    "\n",
    "This will make it possible to create a first version of the engine\n",
    "for classification of fruit images.\n",
    "\n",
    "**MobileNetV2** was selected for its <u>speed of execution</u>,\n",
    "particularly suitable for processing a large volume\n",
    "of data as well as the <u>low dimensionality of the vector\n",
    "of output characteristic</u> (1,1,1280)"
   ]
  },
  {
   "cell_type": "markdown",
   "metadata": {},
   "source": [
    "## Working environment\n",
    "\n",
    "We carried out this project on a macOS operating system. <br>\n",
    "Its installation is quickly explained in order to have a memory aid for later use.<br>\n",
    "<br>\n",
    "\n",
    "```bash\n",
    "brew install openjdk@11\n",
    "brew install python\n",
    "brew install apache-spark\n",
    "```  \n",
    "\n",
    "Add Spark to the environment variables by adding the following lines to your <br>\n",
    ".bash_profile, .zshrc or equivalent depending on your shell: <br>\n",
    "\n",
    "```bash\n",
    "export SPARK_HOME=/usr/local/spark\n",
    "export PATH=$SPARK_HOME/bin:$PATH\n",
    "```  \n",
    "<br>\n",
    "Reload your shell configuration file: <br>\n",
    "\n",
    "```bash\n",
    "source ~/.zshrc  # or source ~/.bash_profile\n",
    "```  \n",
    "\n",
    "#### If you have trouble with <u>Error: Heap size Spark</u> : <br>\n",
    "\n",
    "```bash\n",
    "sudo code /usr/local/Cellar/apache-spark/3.5.1/libexec/conf/spark-defaults.conf\n",
    "```  \n",
    "and add :\n",
    "\n",
    "```bash\n",
    "spark.driver.memory 15g\n",
    "spark.driver.maxResultSize 2g\n",
    "``` "
   ]
  },
  {
   "cell_type": "markdown",
   "metadata": {},
   "source": [
    "## 1. Library Import"
   ]
  },
  {
   "cell_type": "code",
   "execution_count": 78,
   "metadata": {},
   "outputs": [],
   "source": [
    "from pyspark.sql import SparkSession\n",
    "from pyspark.sql.functions import udf\n",
    "from pyspark.ml.feature import PCA\n",
    "from PIL import Image\n",
    "import numpy as np\n",
    "import io\n",
    "import os\n",
    "from pyspark.sql.functions import element_at, split\n",
    "import matplotlib.pyplot as plt\n",
    "from tensorflow.keras.applications.mobilenet_v2 import MobileNetV2, preprocess_input\n",
    "from tensorflow.keras import Model\n",
    "from pyspark.sql.functions import col, pandas_udf, PandasUDFType, element_at, split\n",
    "from tensorflow.keras.preprocessing.image import img_to_array\n",
    "import pandas as pd"
   ]
  },
  {
   "cell_type": "markdown",
   "metadata": {},
   "source": [
    "## 2. Setting PATHs to load images and save results\n",
    "\n",
    "In this local version we assume that the data\n",
    "are stored in the same directory as the notebook.<br />\n",
    "We only use an extract of **300 images** to process in this\n",
    "first version locally.<br />\n",
    "The extract of images to load is stored in the **Sample** folder.<br />\n",
    "We will record the result of our treatment\n",
    "in the \"**Results_Local**\" folder."
   ]
  },
  {
   "cell_type": "code",
   "execution_count": 79,
   "metadata": {},
   "outputs": [],
   "source": [
    "PATH = os.getcwd()\n",
    "PATH_Data = PATH+'/data/Sample'\n",
    "PATH_Result = PATH+'/data/results'"
   ]
  },
  {
   "cell_type": "code",
   "execution_count": 80,
   "metadata": {},
   "outputs": [
    {
     "name": "stdout",
     "output_type": "stream",
     "text": [
      "PATH:        /ai-cloud-computing-spark/train\n",
      "PATH_Data:   /ai-cloud-computing-spark/train/data/Sample\n",
      "PATH_Result: /ai-cloud-computing-spark/train/data/results\n"
     ]
    }
   ],
   "source": [
    "PATHX = '/ai-cloud-computing-spark/train'\n",
    "PATH_DataX = PATHX+'/data/Sample'\n",
    "PATH_ResultX = PATHX+'/data/results'\n",
    "print('PATH:        '+\\\n",
    "      PATHX+'\\nPATH_Data:   '+\\\n",
    "      PATH_DataX+'\\nPATH_Result: '+PATH_ResultX)"
   ]
  },
  {
   "cell_type": "markdown",
   "metadata": {},
   "source": [
    "## 3. Creating the SparkSession\n",
    "\n",
    "The Spark application is controlled using a driver process called **SparkSession**. <br />\n",
    "<u>A **SparkSession** instance is how Spark executes user-defined functions <br />\n",
    "throughout the cluster</u>. <u>A SparkSession always corresponds to a Spark application</u>. <br>\n",
    "\n",
    "To avoid session creation bugs we stop all previously created sessions. <br>\n",
    "\n",
    "<u>Here we create a spark session by specifying in order</u>:\n",
    " 1. a **name for the application**, which will be displayed in the Spark web UI \"**P8**\"\n",
    " 2. that the application must run **locally**. <br />\n",
    "   We don't define the number of cores to use (like .master('local[4]) for 4 cores to use), <br />\n",
    "   so we will use all available cores in our processor.<br />\n",
    " 3. an additional configuration option allowing the use of the **\"parquet\" format** <br />\n",
    "   which we will use to save and load the result of our work.\n",
    " 4. want to **get an existing spark session** or if none exist, create a new one"
   ]
  },
  {
   "cell_type": "code",
   "execution_count": 81,
   "metadata": {},
   "outputs": [],
   "source": [
    "if SparkSession.builder.getOrCreate().sparkContext:\n",
    "    SparkSession.builder.getOrCreate().sparkContext.stop()\n",
    "    \n",
    "spark = (SparkSession\n",
    "             .builder\n",
    "             .appName('ai-cloud-computing-spark')\n",
    "             .master('local')\n",
    "             .config(\"spark.sql.parquet.writeLegacyFormat\", 'true')\n",
    "             .getOrCreate()\n",
    ")"
   ]
  },
  {
   "cell_type": "markdown",
   "metadata": {},
   "source": [
    "<u>Nous créons également la variable \"**sc**\" qui est un **SparkContext** issue de la variable **spark**</u> :"
   ]
  },
  {
   "cell_type": "code",
   "execution_count": 88,
   "metadata": {},
   "outputs": [],
   "source": [
    "sc = spark.sparkContext"
   ]
  },
  {
   "cell_type": "markdown",
   "metadata": {},
   "source": [
    "<u>Affichage des informations de Spark en cours d'execution</u> :"
   ]
  },
  {
   "cell_type": "code",
   "execution_count": 89,
   "metadata": {},
   "outputs": [
    {
     "data": {
      "text/html": [
       "\n",
       "            <div>\n",
       "                <p><b>SparkSession - in-memory</b></p>\n",
       "                \n",
       "        <div>\n",
       "            <p><b>SparkContext</b></p>\n",
       "\n",
       "            <p><a href=\"http://192.168.0.15:4040\">Spark UI</a></p>\n",
       "\n",
       "            <dl>\n",
       "              <dt>Version</dt>\n",
       "                <dd><code>v3.5.1</code></dd>\n",
       "              <dt>Master</dt>\n",
       "                <dd><code>local</code></dd>\n",
       "              <dt>AppName</dt>\n",
       "                <dd><code>ai-cloud-computing-spark</code></dd>\n",
       "            </dl>\n",
       "        </div>\n",
       "        \n",
       "            </div>\n",
       "        "
      ],
      "text/plain": [
       "<pyspark.sql.session.SparkSession at 0x7f903c37f8e0>"
      ]
     },
     "execution_count": 89,
     "metadata": {},
     "output_type": "execute_result"
    }
   ],
   "source": [
    "spark"
   ]
  },
  {
   "cell_type": "markdown",
   "metadata": {},
   "source": [
    "### 4. Loading data\n",
    "\n",
    "Images are loaded in binary format, which offers,\n",
    "more flexibility in how to preprocess images. <br>\n",
    "Before loading the images we specify that we want to load\n",
    "only files with **jpg** extension. <br>\n",
    "We also indicate to load all possible objects contained\n",
    "in the subfolders of the communicated folder."
   ]
  },
  {
   "cell_type": "markdown",
   "metadata": {},
   "source": [
    "<u>Display of the first images containing</u>:\n",
    " - the image path\n",
    " - the date and time of its last modification\n",
    " - its length\n",
    " - its content encoded in hexadecimal value\n",
    " - its label"
   ]
  },
  {
   "cell_type": "code",
   "execution_count": 82,
   "metadata": {},
   "outputs": [
    {
     "name": "stdout",
     "output_type": "stream",
     "text": [
      "+--------------------+--------------------+------+--------------------+--------------+\n",
      "|                path|    modificationTime|length|             content|         label|\n",
      "+--------------------+--------------------+------+--------------------+--------------+\n",
      "|file:/Users/gaeld...|2024-05-30 10:56:...|  5656|[FF D8 FF E0 00 1...|Apple Braeburn|\n",
      "|file:/Users/gaeld...|2024-05-30 10:56:...|  5627|[FF D8 FF E0 00 1...|Apple Braeburn|\n",
      "|file:/Users/gaeld...|2024-05-30 10:56:...|  5613|[FF D8 FF E0 00 1...|Apple Braeburn|\n",
      "|file:/Users/gaeld...|2024-05-30 10:56:...|  5611|[FF D8 FF E0 00 1...|Apple Braeburn|\n",
      "|file:/Users/gaeld...|2024-05-30 10:56:...|  5611|[FF D8 FF E0 00 1...|Apple Braeburn|\n",
      "|file:/Users/gaeld...|2024-05-30 10:56:...|  5606|[FF D8 FF E0 00 1...|Apple Braeburn|\n",
      "|file:/Users/gaeld...|2024-05-30 10:56:...|  5606|[FF D8 FF E0 00 1...|Apple Braeburn|\n",
      "|file:/Users/gaeld...|2024-05-30 10:56:...|  5602|[FF D8 FF E0 00 1...|Apple Braeburn|\n",
      "|file:/Users/gaeld...|2024-05-30 10:56:...|  5599|[FF D8 FF E0 00 1...|Apple Braeburn|\n",
      "|file:/Users/gaeld...|2024-05-30 10:56:...|  5597|[FF D8 FF E0 00 1...|Apple Braeburn|\n",
      "|file:/Users/gaeld...|2024-05-30 10:56:...|  5594|[FF D8 FF E0 00 1...|Apple Braeburn|\n",
      "|file:/Users/gaeld...|2024-05-30 10:56:...|  5591|[FF D8 FF E0 00 1...|Apple Braeburn|\n",
      "|file:/Users/gaeld...|2024-05-30 10:56:...|  5589|[FF D8 FF E0 00 1...|Apple Braeburn|\n",
      "|file:/Users/gaeld...|2024-05-30 10:56:...|  5584|[FF D8 FF E0 00 1...|Apple Braeburn|\n",
      "|file:/Users/gaeld...|2024-05-30 10:56:...|  5584|[FF D8 FF E0 00 1...|Apple Braeburn|\n",
      "|file:/Users/gaeld...|2024-05-30 10:56:...|  5580|[FF D8 FF E0 00 1...|Apple Braeburn|\n",
      "|file:/Users/gaeld...|2024-05-30 10:56:...|  5576|[FF D8 FF E0 00 1...|Apple Braeburn|\n",
      "|file:/Users/gaeld...|2024-05-30 10:56:...|  5575|[FF D8 FF E0 00 1...|Apple Braeburn|\n",
      "|file:/Users/gaeld...|2024-05-30 10:56:...|  5574|[FF D8 FF E0 00 1...|Apple Braeburn|\n",
      "|file:/Users/gaeld...|2024-05-30 10:56:...|  5572|[FF D8 FF E0 00 1...|Apple Braeburn|\n",
      "+--------------------+--------------------+------+--------------------+--------------+\n",
      "only showing top 20 rows\n",
      "\n"
     ]
    }
   ],
   "source": [
    "df = spark.read.format(\"binaryFile\") \\\n",
    "  .option(\"pathGlobFilter\", \"*.jpg\") \\\n",
    "  .option(\"recursiveFileLookup\", \"true\") \\\n",
    "  .load(PATH_Data)\n",
    "df = df.withColumn('label', element_at(split(df['path'], '/'),-2))\n",
    "df.show()"
   ]
  },
  {
   "cell_type": "markdown",
   "metadata": {},
   "source": [
    "<u>Data type for each column in the Spark Dataframe</u> <br>\n",
    "\n",
    "- path: Character string (can be null)\n",
    "- modificationTime: Timestamp (can be null)\n",
    "- length: Long integer (can be null)\n",
    "- content: Binary data (can be null)\n",
    "- label: Character string (can be null)"
   ]
  },
  {
   "cell_type": "code",
   "execution_count": 83,
   "metadata": {},
   "outputs": [
    {
     "name": "stdout",
     "output_type": "stream",
     "text": [
      "root\n",
      " |-- path: string (nullable = true)\n",
      " |-- modificationTime: timestamp (nullable = true)\n",
      " |-- length: long (nullable = true)\n",
      " |-- content: binary (nullable = true)\n",
      " |-- label: string (nullable = true)\n",
      "\n"
     ]
    }
   ],
   "source": [
    "df.printSchema()"
   ]
  },
  {
   "cell_type": "markdown",
   "metadata": {},
   "source": [
    "## 5.1 PCA\n",
    "\n",
    "In the introduction, we presented our objective of reducing the size of the data. <br>\n",
    "To do this we must carry out a PCA on the characteristics of the images. <br>\n",
    "<br>\n",
    "The Spark documentation tells us that PCA ([Principal Component Analysis](https://en.wikipedia.org/wiki/Principal_component_analysis)) are only possible on dense vectors or sparse vectors. <br>\n",
    "- Dense Vector : explicitly stores all of its elements.\n",
    "- Sparse Vector : stores only non-zero elements and their indices"
   ]
  },
  {
   "cell_type": "markdown",
   "metadata": {},
   "source": [
    "PCA are very slow with Spark, to know the number of main components to keep in our training we carry out a PCA <br> in another notebook to visualize how many PCAs we will keep."
   ]
  },
  {
   "cell_type": "markdown",
   "metadata": {},
   "source": [
    "#### <u>We can see, cummulative variance can be explain by only 31 components.</u>\n",
    "\n",
    "![PCA Graph](img/PCA_grap.png)"
   ]
  },
  {
   "cell_type": "markdown",
   "metadata": {},
   "source": [
    "When we use these 31 components the image is simplified to improve the model's understanding of the features. <br>\n",
    "Here is a visualization of the original image and the image simplified by 31 components. <br>\n",
    "\n",
    "![simplified Image](img/simplified_image.png)"
   ]
  },
  {
   "cell_type": "markdown",
   "metadata": {},
   "source": [
    "## 5.2 PCA Spark\n",
    "\n",
    "We now know the number of features suitable for dimension reduction that we can apply with Spark. <br>\n",
    "For this we must carry out a transformation of the images into a dense vector. <br>\n",
    "We recover the binary values ​​of the images in a numpy array using cv2 then we apply a dense vector transformation in a new column."
   ]
  },
  {
   "cell_type": "code",
   "execution_count": 84,
   "metadata": {},
   "outputs": [],
   "source": [
    "from pyspark.ml.feature import PCA\n",
    "import cv2\n",
    "from pyspark.ml.linalg import Vectors, VectorUDT\n",
    "\n",
    "def image_to_vector(content):\n",
    "    nparr = np.frombuffer(content, np.uint8)\n",
    "    img = cv2.imdecode(nparr, cv2.IMREAD_GRAYSCALE)\n",
    "    img_vector = img.flatten().astype(float)\n",
    "    return Vectors.dense(img_vector)\n",
    "\n",
    "image_to_vector_udf = udf(image_to_vector, VectorUDT())\n",
    "df = df.withColumn('features', image_to_vector_udf(df['content']))"
   ]
  },
  {
   "cell_type": "markdown",
   "metadata": {},
   "source": [
    "We can check the dense vector transformation."
   ]
  },
  {
   "cell_type": "code",
   "execution_count": 86,
   "metadata": {},
   "outputs": [
    {
     "name": "stdout",
     "output_type": "stream",
     "text": [
      "root\n",
      " |-- path: string (nullable = true)\n",
      " |-- modificationTime: timestamp (nullable = true)\n",
      " |-- length: long (nullable = true)\n",
      " |-- content: binary (nullable = true)\n",
      " |-- label: string (nullable = true)\n",
      " |-- features: vector (nullable = true)\n",
      "\n"
     ]
    }
   ],
   "source": [
    "df.printSchema()"
   ]
  },
  {
   "cell_type": "markdown",
   "metadata": {},
   "source": [
    "From the dense vector we can recreate the original image to verify that the transformation worked correctly."
   ]
  },
  {
   "cell_type": "code",
   "execution_count": 87,
   "metadata": {},
   "outputs": [
    {
     "name": "stderr",
     "output_type": "stream",
     "text": [
      "                                                                                \r"
     ]
    },
    {
     "data": {
      "image/png": "[encoded data removed]",
      "text/plain": [
       "<Figure size 640x480 with 1 Axes>"
      ]
     },
     "metadata": {},
     "output_type": "display_data"
    }
   ],
   "source": [
    "\n",
    "first_row = df.select(\"features\").first()\n",
    "dense_vector = first_row[\"features\"]\n",
    "dense_array = dense_vector.toArray()\n",
    "\n",
    "image_size = (100, 100)\n",
    "original_image = dense_array.reshape(image_size)\n",
    "\n",
    "plt.title(\"Original Image\")\n",
    "plt.imshow(original_image, cmap='gray')\n",
    "plt.show()"
   ]
  },
  {
   "cell_type": "markdown",
   "metadata": {},
   "source": [
    "We can now train the PCA to determine which components best explain the variance and apply dimension reduction with the number of principal components we determined previously."
   ]
  },
  {
   "cell_type": "code",
   "execution_count": null,
   "metadata": {},
   "outputs": [],
   "source": [
    "pca = PCA(k=31, inputCol=\"features\", outputCol=\"pcaFeatures\")\n",
    "model = pca.fit(df)"
   ]
  },
  {
   "cell_type": "code",
   "execution_count": null,
   "metadata": {},
   "outputs": [],
   "source": [
    "df = model.transform(df).select(\"pcaFeatures\")"
   ]
  },
  {
   "cell_type": "code",
   "execution_count": null,
   "metadata": {},
   "outputs": [],
   "source": [
    "df.show()"
   ]
  },
  {
   "cell_type": "markdown",
   "metadata": {},
   "source": [
    "To check the dimension reduction we can transform the reduced values ​​into an image to compare them to the original data."
   ]
  },
  {
   "cell_type": "code",
   "execution_count": null,
   "metadata": {},
   "outputs": [],
   "source": [
    "\n",
    "first_row_pca = df.select(\"pcaFeatures\").first()\n",
    "dense_vector_pca = first_row_pca[\"pcaFeatures\"]\n",
    "dense_array_pca = dense_vector_pca.toArray()\n",
    "\n",
    "image_size = (100, 100)\n",
    "image_array_pca = dense_array_pca.reshape(image_size)\n",
    "\n",
    "plt.figure(figsize=(12, 6))\n",
    "plt.subplot(1, 2, 1)\n",
    "plt.title(\"Original Image\")\n",
    "plt.imshow(original_image, cmap='gray')\n",
    "plt.subplot(1, 2, 2)\n",
    "plt.title(\"PCA Image\")\n",
    "plt.imshow(image_array_pca, cmap='gray')\n",
    "plt.show()"
   ]
  },
  {
   "cell_type": "markdown",
   "metadata": {},
   "source": [
    "## 6. Preparing the model\n",
    "\n",
    "We will use the **transfer learning** technique to extract features from images.<br />\n",
    "We chose to use the **MobileNetV2** model for its comparative speed of execution\n",
    "to other models like *VGG16* for example.\n",
    "\n",
    "To learn more about the design and operation of MobileNetV2,\n",
    "We invite you to read [this article](https://towardsdatascience.com/review-mobilenetv2-light-weight-model-image-classification-8febb490e61c).\n",
    "\n",
    "<u>Here is the diagram of its overall architecture</u>:\n",
    "\n",
    "![Architecture de MobileNetV2](img/mobilenetv2_architecture.png)\n",
    "\n",
    "There is a final layer which is used to classify the images\n",
    "according to 1000 categories that we don't want to use.<br/>\n",
    "The idea in this project is to recover the **feature vector\n",
    "of dimensions (1,1,1280)** which will be used, later, through a motor <br />\n",
    "classification to recognize the different fruits of the dataset.\n",
    "\n",
    "Like other similar models, **MobileNetV2**, when used\n",
    "by including all its layers, necessarily expects images\n",
    "of dimension (224,224.3). Our images are all of dimension (100,100,3),\n",
    "we'll just have to **resize** them before handing them over to the model.\n",
    "\n",
    "<u>In order</u>:\n",
    " 1. We load the **MobileNetV2** model with the **precalculated** weights <br />\n",
    "    from **imagenet** and specifying the format of our input images\n",
    " 2. We create a new model with:\n",
    "  - <u>input</u>: the input of the MobileNetV2 model\n",
    "  - <u>output</u>: the penultimate layer of the MobileNetV2 model"
   ]
  },
  {
   "cell_type": "code",
   "execution_count": null,
   "metadata": {},
   "outputs": [],
   "source": [
    "model = MobileNetV2(weights='imagenet',\n",
    "                    include_top=True,\n",
    "                    input_shape=(224, 224, 3))"
   ]
  },
  {
   "cell_type": "code",
   "execution_count": null,
   "metadata": {},
   "outputs": [],
   "source": [
    "new_model = Model(inputs=model.input,\n",
    "                  outputs=model.layers[-2].output)"
   ]
  },
  {
   "cell_type": "markdown",
   "metadata": {},
   "source": [
    "Showing the summary of our new model where we see <br />\n",
    "that <u>we recover as output a vector of dimension (1, 1, 1280)</u>:"
   ]
  },
  {
   "cell_type": "markdown",
   "metadata": {},
   "source": [
    "model.summary()"
   ]
  },
  {
   "cell_type": "markdown",
   "metadata": {},
   "source": [
    "All workers must be able to access the model and its weights. <br />\n",
    "A good practice is to load the model on the driver then broadcast <br />\n",
    "then the weights for the different workers."
   ]
  },
  {
   "cell_type": "code",
   "execution_count": null,
   "metadata": {},
   "outputs": [],
   "source": [
    "brodcast_weights = sc.broadcast(new_model.get_weights())"
   ]
  },
  {
   "cell_type": "markdown",
   "metadata": {},
   "source": [
    "<u>Let's put this in function form</u>:"
   ]
  },
  {
   "cell_type": "code",
   "execution_count": null,
   "metadata": {},
   "outputs": [],
   "source": [
    "def model_fn():\n",
    "    \"\"\"\n",
    "    Returns a MobileNetV2 model with top layer removed \n",
    "    and broadcasted pretrained weights.\n",
    "    \"\"\"\n",
    "    model = MobileNetV2(weights='imagenet',\n",
    "                        include_top=True,\n",
    "                        input_shape=(224, 224, 3))\n",
    "    for layer in model.layers:\n",
    "        layer.trainable = False\n",
    "    new_model = Model(inputs=model.input,\n",
    "                  outputs=model.layers[-2].output)\n",
    "    new_model.set_weights(brodcast_weights.value)\n",
    "    return new_model"
   ]
  },
  {
   "cell_type": "markdown",
   "metadata": {},
   "source": [
    "## 7. Definition of the image loading process and application of their featurization through the use of pandas UDF\n",
    "\n",
    "This notebook defines the logic in stages, up to Pandas UDF.\n",
    "\n",
    "<u>The stacking of calls is as follows</u>:\n",
    "\n",
    "- Pandas UDF\n",
    "  - featurize a series of pd.Series images\n",
    "   - preprocess an image"
   ]
  },
  {
   "cell_type": "code",
   "execution_count": null,
   "metadata": {},
   "outputs": [],
   "source": [
    "def preprocess(content):\n",
    "    \"\"\"\n",
    "    Preprocesses raw image bytes for prediction.\n",
    "    \"\"\"\n",
    "    img = Image.open(io.BytesIO(content)).resize([224, 224])\n",
    "    arr = img_to_array(img)\n",
    "    return preprocess_input(arr)\n",
    "\n",
    "def featurize_series(model, content_series):\n",
    "    \"\"\"\n",
    "    Featurize a pd.Series of raw images using the input model.\n",
    "    :return: a pd.Series of image features\n",
    "    \"\"\"\n",
    "    input = np.stack(content_series.map(preprocess))\n",
    "    preds = model.predict(input)\n",
    "    # For some layers, output features will be multi-dimensional tensors.\n",
    "    # We flatten the feature tensors to vectors for easier storage in Spark DataFrames.\n",
    "    output = [p.flatten() for p in preds]\n",
    "    return pd.Series(output)\n",
    "\n",
    "@pandas_udf('array<float>', PandasUDFType.SCALAR_ITER)\n",
    "def featurize_udf(content_series_iter):\n",
    "    '''\n",
    "    This method is a Scalar Iterator pandas UDF wrapping our featurization function.\n",
    "    The decorator specifies that this returns a Spark DataFrame column of type ArrayType(FloatType).\n",
    "\n",
    "    :param content_series_iter: This argument is an iterator over batches of data, where each batch\n",
    "                              is a pandas Series of image data.\n",
    "    '''\n",
    "    # With Scalar Iterator pandas UDFs, we can load the model once and then re-use it\n",
    "    # for multiple data batches.  This amortizes the overhead of loading big models.\n",
    "    model = model_fn()\n",
    "    for content_series in content_series_iter:\n",
    "        yield featurize_series(model, content_series)"
   ]
  },
  {
   "cell_type": "markdown",
   "metadata": {},
   "source": [
    "## 8. Executing feature extraction actions\n",
    "\n",
    "Pandas UDF, on large recordings (e.g. very large images),\n",
    "may encounter Out Of Memory (OOM) errors.<br />\n",
    "If you encounter such errors in the cell below,\n",
    "try reducing Arrow batch size via 'maxRecordsPerBatch'\n",
    "\n",
    "We will not use this command in this project\n",
    "and we therefore leave the order in comments."
   ]
  },
  {
   "cell_type": "code",
   "execution_count": 90,
   "metadata": {},
   "outputs": [],
   "source": [
    "# spark.conf.set(\"spark.sql.execution.arrow.maxRecordsPerBatch\", \"1024\")"
   ]
  },
  {
   "cell_type": "markdown",
   "metadata": {},
   "source": [
    "We can now run featurization across our entire Spark DataFrame.<br />\n",
    "<u>NOTE</u>: This can take a long time, depending on the volume of data to be processed. <br />\n",
    "\n",
    "Our **Test** dataset contains **22819 images**. <br />\n",
    "However, in **local** mode execution,\n",
    "we <u>will process a reduced set of **330 images**</u>."
   ]
  },
  {
   "cell_type": "code",
   "execution_count": null,
   "metadata": {},
   "outputs": [],
   "source": [
    "features_df = df.repartition(20).select(col(\"path\"),\n",
    "                                            col(\"label\"),\n",
    "                                            featurize_udf(\"pcaFeatures\").alias(\"values\")\n",
    "                                           )"
   ]
  },
  {
   "cell_type": "markdown",
   "metadata": {},
   "source": [
    "<u>Reminder of the PATH where the files in \"**parquet**\" format will be written\n",
    "containing our results, namely, a DataFrame containing 3 columns</u>:\n",
    " 1. Image path\n",
    " 2. Image label\n",
    " 3. Image feature vector"
   ]
  },
  {
   "cell_type": "code",
   "execution_count": 91,
   "metadata": {},
   "outputs": [
    {
     "name": "stdout",
     "output_type": "stream",
     "text": [
      "/ai-cloud-computing-spark/train/data/results\n"
     ]
    }
   ],
   "source": [
    "print(PATH_ResultX)"
   ]
  },
  {
   "cell_type": "markdown",
   "metadata": {},
   "source": [
    "<u>Saving processed data in \"**parquet**\" format</u>:"
   ]
  },
  {
   "cell_type": "code",
   "execution_count": null,
   "metadata": {},
   "outputs": [],
   "source": [
    "features_df.write.mode(\"overwrite\").parquet(PATH_Result)"
   ]
  },
  {
   "cell_type": "markdown",
   "metadata": {},
   "source": [
    "## 9. Loading recorded data and validating the result\n",
    "\n",
    "<u>We load the freshly recorded data into a **Pandas DataFrame**</u>:"
   ]
  },
  {
   "cell_type": "code",
   "execution_count": null,
   "metadata": {},
   "outputs": [],
   "source": [
    "df = pd.read_parquet(PATH_Result, engine='pyarrow')"
   ]
  },
  {
   "cell_type": "markdown",
   "metadata": {},
   "source": [
    "<u>We display the first 5 lines of the DataFrame</u>:"
   ]
  },
  {
   "cell_type": "code",
   "execution_count": null,
   "metadata": {},
   "outputs": [],
   "source": [
    "df.head()"
   ]
  }
 ],
 "metadata": {
  "kernelspec": {
   "display_name": "test-spark",
   "language": "python",
   "name": "python3"
  },
  "language_info": {
   "codemirror_mode": {
    "name": "ipython",
    "version": 3
   },
   "file_extension": ".py",
   "mimetype": "text/x-python",
   "name": "python",
   "nbconvert_exporter": "python",
   "pygments_lexer": "ipython3",
   "version": "3.10.9"
  }
 },
 "nbformat": 4,
 "nbformat_minor": 2
}

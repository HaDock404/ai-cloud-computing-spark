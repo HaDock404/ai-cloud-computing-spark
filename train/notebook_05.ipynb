{
 "cells": [
  {
   "cell_type": "code",
   "execution_count": 16,
   "metadata": {},
   "outputs": [],
   "source": [
    "from pyspark.sql import SparkSession\n",
    "from pyspark.ml.image import ImageSchema\n",
    "from pyspark.ml.feature import PCA\n",
    "from pyspark.sql.functions import udf\n",
    "from pyspark.sql.types import ArrayType, FloatType\n",
    "import os\n",
    "import numpy as np\n",
    "import io\n",
    "from PIL import Image"
   ]
  },
  {
   "cell_type": "code",
   "execution_count": 17,
   "metadata": {},
   "outputs": [],
   "source": [
    "if SparkSession.builder.getOrCreate().sparkContext:\n",
    "    SparkSession.builder.getOrCreate().sparkContext.stop()\n",
    "\n",
    "spark = (SparkSession\n",
    "             .builder\n",
    "             .appName('test2-spark')\n",
    "             .master('local')\n",
    "             .config(\"spark.sql.parquet.writeLegacyFormat\", 'true')\n",
    "             .getOrCreate()\n",
    ")"
   ]
  },
  {
   "cell_type": "code",
   "execution_count": 18,
   "metadata": {},
   "outputs": [
    {
     "name": "stdout",
     "output_type": "stream",
     "text": [
      "PATH:        /Users/gaeldelescluse/Documents/OpenClassRooms/2.Projets/Projet11/ai-cloud-computing-spark/train\n",
      "PATH_Data:   /Users/gaeldelescluse/Documents/OpenClassRooms/2.Projets/Projet11/ai-cloud-computing-spark/train/data/Test1\n",
      "PATH_Result: /Users/gaeldelescluse/Documents/OpenClassRooms/2.Projets/Projet11/ai-cloud-computing-spark/train/data/results\n"
     ]
    }
   ],
   "source": [
    "PATH = os.getcwd()\n",
    "PATH_Data = PATH+'/data/Test1'\n",
    "PATH_Result = PATH+'/data/results'\n",
    "print('PATH:        '+\\\n",
    "      PATH+'\\nPATH_Data:   '+\\\n",
    "      PATH_Data+'\\nPATH_Result: '+PATH_Result)"
   ]
  },
  {
   "cell_type": "code",
   "execution_count": 19,
   "metadata": {},
   "outputs": [
    {
     "data": {
      "text/html": [
       "\n",
       "            <div>\n",
       "                <p><b>SparkSession - in-memory</b></p>\n",
       "                \n",
       "        <div>\n",
       "            <p><b>SparkContext</b></p>\n",
       "\n",
       "            <p><a href=\"http://192.168.0.15:4040\">Spark UI</a></p>\n",
       "\n",
       "            <dl>\n",
       "              <dt>Version</dt>\n",
       "                <dd><code>v3.5.1</code></dd>\n",
       "              <dt>Master</dt>\n",
       "                <dd><code>local</code></dd>\n",
       "              <dt>AppName</dt>\n",
       "                <dd><code>test2-spark</code></dd>\n",
       "            </dl>\n",
       "        </div>\n",
       "        \n",
       "            </div>\n",
       "        "
      ],
      "text/plain": [
       "<pyspark.sql.session.SparkSession at 0x7fa40756c7c0>"
      ]
     },
     "execution_count": 19,
     "metadata": {},
     "output_type": "execute_result"
    }
   ],
   "source": [
    "sc = spark.sparkContext\n",
    "spark"
   ]
  },
  {
   "cell_type": "code",
   "execution_count": 20,
   "metadata": {},
   "outputs": [],
   "source": [
    "df = spark.read.format(\"binaryFile\") \\\n",
    "  .option(\"pathGlobFilter\", \"*.jpg\") \\\n",
    "  .option(\"recursiveFileLookup\", \"true\") \\\n",
    "  .load(PATH_Data)"
   ]
  },
  {
   "cell_type": "code",
   "execution_count": 21,
   "metadata": {},
   "outputs": [
    {
     "name": "stdout",
     "output_type": "stream",
     "text": [
      "+--------------------+-------------------+------+--------------------+\n",
      "|                path|   modificationTime|length|             content|\n",
      "+--------------------+-------------------+------+--------------------+\n",
      "|file:/Users/gaeld...|2021-09-12 19:25:42|  5656|[FF D8 FF E0 00 1...|\n",
      "|file:/Users/gaeld...|2021-09-12 19:25:42|  5627|[FF D8 FF E0 00 1...|\n",
      "|file:/Users/gaeld...|2021-09-12 19:25:42|  5613|[FF D8 FF E0 00 1...|\n",
      "|file:/Users/gaeld...|2021-09-12 19:25:42|  5611|[FF D8 FF E0 00 1...|\n",
      "|file:/Users/gaeld...|2021-09-12 19:25:42|  5611|[FF D8 FF E0 00 1...|\n",
      "|file:/Users/gaeld...|2021-09-12 19:25:42|  5606|[FF D8 FF E0 00 1...|\n",
      "|file:/Users/gaeld...|2021-09-12 19:25:42|  5606|[FF D8 FF E0 00 1...|\n",
      "|file:/Users/gaeld...|2021-09-12 19:25:42|  5602|[FF D8 FF E0 00 1...|\n",
      "|file:/Users/gaeld...|2021-09-12 19:25:42|  5599|[FF D8 FF E0 00 1...|\n",
      "|file:/Users/gaeld...|2021-09-12 19:25:42|  5597|[FF D8 FF E0 00 1...|\n",
      "|file:/Users/gaeld...|2021-09-12 19:25:42|  5594|[FF D8 FF E0 00 1...|\n",
      "|file:/Users/gaeld...|2021-09-12 19:25:42|  5591|[FF D8 FF E0 00 1...|\n",
      "|file:/Users/gaeld...|2021-09-12 19:25:42|  5589|[FF D8 FF E0 00 1...|\n",
      "|file:/Users/gaeld...|2021-09-12 19:25:42|  5584|[FF D8 FF E0 00 1...|\n",
      "|file:/Users/gaeld...|2021-09-12 19:25:42|  5584|[FF D8 FF E0 00 1...|\n",
      "|file:/Users/gaeld...|2021-09-12 19:25:42|  5580|[FF D8 FF E0 00 1...|\n",
      "|file:/Users/gaeld...|2021-09-12 19:25:42|  5576|[FF D8 FF E0 00 1...|\n",
      "|file:/Users/gaeld...|2021-09-12 19:25:42|  5575|[FF D8 FF E0 00 1...|\n",
      "|file:/Users/gaeld...|2021-09-12 19:25:42|  5574|[FF D8 FF E0 00 1...|\n",
      "|file:/Users/gaeld...|2021-09-12 19:25:42|  5572|[FF D8 FF E0 00 1...|\n",
      "+--------------------+-------------------+------+--------------------+\n",
      "only showing top 20 rows\n",
      "\n"
     ]
    }
   ],
   "source": [
    "df.show()"
   ]
  },
  {
   "cell_type": "code",
   "execution_count": 22,
   "metadata": {},
   "outputs": [
    {
     "name": "stderr",
     "output_type": "stream",
     "text": [
      "[Stage 1:>                                                          (0 + 1) / 1]\r"
     ]
    },
    {
     "name": "stdout",
     "output_type": "stream",
     "text": [
      "+--------------------+-------------------+------+--------------------+--------------------+\n",
      "|                path|   modificationTime|length|             content|            features|\n",
      "+--------------------+-------------------+------+--------------------+--------------------+\n",
      "|file:/Users/gaeld...|2021-09-12 19:25:42|  5656|[FF D8 FF E0 00 1...|[255, 255, 255, 2...|\n",
      "|file:/Users/gaeld...|2021-09-12 19:25:42|  5627|[FF D8 FF E0 00 1...|[255, 255, 255, 2...|\n",
      "|file:/Users/gaeld...|2021-09-12 19:25:42|  5613|[FF D8 FF E0 00 1...|[255, 255, 255, 2...|\n",
      "|file:/Users/gaeld...|2021-09-12 19:25:42|  5611|[FF D8 FF E0 00 1...|[255, 255, 255, 2...|\n",
      "|file:/Users/gaeld...|2021-09-12 19:25:42|  5611|[FF D8 FF E0 00 1...|[255, 255, 255, 2...|\n",
      "|file:/Users/gaeld...|2021-09-12 19:25:42|  5606|[FF D8 FF E0 00 1...|[255, 255, 255, 2...|\n",
      "|file:/Users/gaeld...|2021-09-12 19:25:42|  5606|[FF D8 FF E0 00 1...|[255, 255, 255, 2...|\n",
      "|file:/Users/gaeld...|2021-09-12 19:25:42|  5602|[FF D8 FF E0 00 1...|[255, 255, 255, 2...|\n",
      "|file:/Users/gaeld...|2021-09-12 19:25:42|  5599|[FF D8 FF E0 00 1...|[255, 255, 255, 2...|\n",
      "|file:/Users/gaeld...|2021-09-12 19:25:42|  5597|[FF D8 FF E0 00 1...|[255, 255, 255, 2...|\n",
      "|file:/Users/gaeld...|2021-09-12 19:25:42|  5594|[FF D8 FF E0 00 1...|[255, 255, 255, 2...|\n",
      "|file:/Users/gaeld...|2021-09-12 19:25:42|  5591|[FF D8 FF E0 00 1...|[255, 255, 255, 2...|\n",
      "|file:/Users/gaeld...|2021-09-12 19:25:42|  5589|[FF D8 FF E0 00 1...|[255, 255, 255, 2...|\n",
      "|file:/Users/gaeld...|2021-09-12 19:25:42|  5584|[FF D8 FF E0 00 1...|[255, 255, 255, 2...|\n",
      "|file:/Users/gaeld...|2021-09-12 19:25:42|  5584|[FF D8 FF E0 00 1...|[255, 255, 255, 2...|\n",
      "|file:/Users/gaeld...|2021-09-12 19:25:42|  5580|[FF D8 FF E0 00 1...|[255, 255, 255, 2...|\n",
      "|file:/Users/gaeld...|2021-09-12 19:25:42|  5576|[FF D8 FF E0 00 1...|[255, 255, 255, 2...|\n",
      "|file:/Users/gaeld...|2021-09-12 19:25:42|  5575|[FF D8 FF E0 00 1...|[255, 255, 255, 2...|\n",
      "|file:/Users/gaeld...|2021-09-12 19:25:42|  5574|[FF D8 FF E0 00 1...|[255, 255, 255, 2...|\n",
      "|file:/Users/gaeld...|2021-09-12 19:25:42|  5572|[FF D8 FF E0 00 1...|[255, 255, 255, 2...|\n",
      "+--------------------+-------------------+------+--------------------+--------------------+\n",
      "only showing top 20 rows\n",
      "\n"
     ]
    },
    {
     "name": "stderr",
     "output_type": "stream",
     "text": [
      "                                                                                \r"
     ]
    }
   ],
   "source": [
    "from pyspark.sql.types import ArrayType, IntegerType\n",
    "\n",
    "def process_image(content):\n",
    "    img = Image.open(io.BytesIO(content)).convert('L')\n",
    "    return np.array(img).flatten().tolist()\n",
    "\n",
    "# Déclaration de la fonction UDF\n",
    "process_image_udf = udf(process_image, ArrayType(IntegerType()))\n",
    "\n",
    "# Ajout d'une colonne 'features' en appliquant l'UDF\n",
    "df_final = df.withColumn(\"features\", process_image_udf(df.content))\n",
    "\n",
    "# Affichage du DataFrame final\n",
    "df_final.show()"
   ]
  },
  {
   "cell_type": "code",
   "execution_count": null,
   "metadata": {},
   "outputs": [],
   "source": []
  }
 ],
 "metadata": {
  "kernelspec": {
   "display_name": "test-spark",
   "language": "python",
   "name": "python3"
  },
  "language_info": {
   "codemirror_mode": {
    "name": "ipython",
    "version": 3
   },
   "file_extension": ".py",
   "mimetype": "text/x-python",
   "name": "python",
   "nbconvert_exporter": "python",
   "pygments_lexer": "ipython3",
   "version": "3.10.9"
  }
 },
 "nbformat": 4,
 "nbformat_minor": 2
}

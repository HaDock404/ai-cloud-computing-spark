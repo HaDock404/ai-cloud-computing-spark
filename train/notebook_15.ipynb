{
 "cells": [
  {
   "cell_type": "code",
   "execution_count": 1,
   "metadata": {},
   "outputs": [
    {
     "name": "stderr",
     "output_type": "stream",
     "text": [
      "2024-05-28 22:09:21.761437: I tensorflow/core/platform/cpu_feature_guard.cc:210] This TensorFlow binary is optimized to use available CPU instructions in performance-critical operations.\n",
      "To enable the following instructions: AVX2 FMA, in other operations, rebuild TensorFlow with the appropriate compiler flags.\n"
     ]
    }
   ],
   "source": [
    "from pyspark.sql import SparkSession\n",
    "from pyspark.sql.functions import udf\n",
    "from pyspark.sql.types import BinaryType\n",
    "from pyspark.ml.linalg import Vectors, VectorUDT\n",
    "from pyspark.ml.feature import PCA, StandardScaler\n",
    "from pyspark.sql.functions import col, pandas_udf, PandasUDFType, element_at, split\n",
    "from PIL import Image\n",
    "import numpy as np\n",
    "import io\n",
    "import os\n",
    "import pandas as pd\n",
    "import tensorflow as tf\n",
    "from tensorflow.keras.applications.mobilenet_v2 import MobileNetV2, preprocess_input\n",
    "from tensorflow.keras.preprocessing.image import img_to_array\n",
    "from tensorflow.keras import Model"
   ]
  },
  {
   "cell_type": "code",
   "execution_count": 2,
   "metadata": {},
   "outputs": [
    {
     "name": "stderr",
     "output_type": "stream",
     "text": [
      "Setting default log level to \"WARN\".\n",
      "To adjust logging level use sc.setLogLevel(newLevel). For SparkR, use setLogLevel(newLevel).\n",
      "24/05/28 22:09:34 WARN NativeCodeLoader: Unable to load native-hadoop library for your platform... using builtin-java classes where applicable\n"
     ]
    }
   ],
   "source": [
    "if SparkSession.builder.getOrCreate().sparkContext:\n",
    "    SparkSession.builder.getOrCreate().sparkContext.stop()\n",
    "\n",
    "spark = (SparkSession\n",
    "             .builder\n",
    "             .appName('test15-spark')\n",
    "             .master('local')\n",
    "             .config(\"spark.sql.parquet.writeLegacyFormat\", 'true')\n",
    "             .getOrCreate()\n",
    ")"
   ]
  },
  {
   "cell_type": "code",
   "execution_count": 3,
   "metadata": {},
   "outputs": [
    {
     "name": "stdout",
     "output_type": "stream",
     "text": [
      "PATH:        /Users/gaeldelescluse/Documents/OpenClassRooms/2.Projets/Projet11/ai-cloud-computing-spark/train\n",
      "PATH_Data:   /Users/gaeldelescluse/Documents/OpenClassRooms/2.Projets/Projet11/ai-cloud-computing-spark/train/data/Test1\n",
      "PATH_Result: /Users/gaeldelescluse/Documents/OpenClassRooms/2.Projets/Projet11/ai-cloud-computing-spark/train/data/results\n"
     ]
    }
   ],
   "source": [
    "PATH = os.getcwd()\n",
    "PATH_Data = PATH+'/data/Test1'\n",
    "PATH_Result = PATH+'/data/results'\n",
    "print('PATH:        '+\\\n",
    "      PATH+'\\nPATH_Data:   '+\\\n",
    "      PATH_Data+'\\nPATH_Result: '+PATH_Result)"
   ]
  },
  {
   "cell_type": "code",
   "execution_count": 6,
   "metadata": {},
   "outputs": [],
   "source": [
    "df = spark.read.format(\"binaryFile\") \\\n",
    "  .option(\"pathGlobFilter\", \"*.jpg\") \\\n",
    "  .option(\"recursiveFileLookup\", \"true\") \\\n",
    "  .load(PATH_Data)\n",
    "df = df.withColumn('label', element_at(split(df['path'], '/'),-2))"
   ]
  },
  {
   "cell_type": "code",
   "execution_count": 7,
   "metadata": {},
   "outputs": [
    {
     "name": "stdout",
     "output_type": "stream",
     "text": [
      "+--------------------+-------------------+------+--------------------+--------------+\n",
      "|                path|   modificationTime|length|             content|         label|\n",
      "+--------------------+-------------------+------+--------------------+--------------+\n",
      "|file:/Users/gaeld...|2021-09-12 19:25:42|  5656|[FF D8 FF E0 00 1...|Apple Braeburn|\n",
      "|file:/Users/gaeld...|2021-09-12 19:25:42|  5627|[FF D8 FF E0 00 1...|Apple Braeburn|\n",
      "|file:/Users/gaeld...|2021-09-12 19:25:42|  5613|[FF D8 FF E0 00 1...|Apple Braeburn|\n",
      "|file:/Users/gaeld...|2021-09-12 19:25:42|  5611|[FF D8 FF E0 00 1...|Apple Braeburn|\n",
      "|file:/Users/gaeld...|2021-09-12 19:25:42|  5611|[FF D8 FF E0 00 1...|Apple Braeburn|\n",
      "|file:/Users/gaeld...|2021-09-12 19:25:42|  5606|[FF D8 FF E0 00 1...|Apple Braeburn|\n",
      "|file:/Users/gaeld...|2021-09-12 19:25:42|  5606|[FF D8 FF E0 00 1...|Apple Braeburn|\n",
      "|file:/Users/gaeld...|2021-09-12 19:25:42|  5602|[FF D8 FF E0 00 1...|Apple Braeburn|\n",
      "|file:/Users/gaeld...|2021-09-12 19:25:42|  5599|[FF D8 FF E0 00 1...|Apple Braeburn|\n",
      "|file:/Users/gaeld...|2021-09-12 19:25:42|  5597|[FF D8 FF E0 00 1...|Apple Braeburn|\n",
      "|file:/Users/gaeld...|2021-09-12 19:25:42|  5594|[FF D8 FF E0 00 1...|Apple Braeburn|\n",
      "|file:/Users/gaeld...|2021-09-12 19:25:42|  5591|[FF D8 FF E0 00 1...|Apple Braeburn|\n",
      "|file:/Users/gaeld...|2021-09-12 19:25:42|  5589|[FF D8 FF E0 00 1...|Apple Braeburn|\n",
      "|file:/Users/gaeld...|2021-09-12 19:25:42|  5584|[FF D8 FF E0 00 1...|Apple Braeburn|\n",
      "|file:/Users/gaeld...|2021-09-12 19:25:42|  5584|[FF D8 FF E0 00 1...|Apple Braeburn|\n",
      "|file:/Users/gaeld...|2021-09-12 19:25:42|  5580|[FF D8 FF E0 00 1...|Apple Braeburn|\n",
      "|file:/Users/gaeld...|2021-09-12 19:25:42|  5576|[FF D8 FF E0 00 1...|Apple Braeburn|\n",
      "|file:/Users/gaeld...|2021-09-12 19:25:42|  5575|[FF D8 FF E0 00 1...|Apple Braeburn|\n",
      "|file:/Users/gaeld...|2021-09-12 19:25:42|  5574|[FF D8 FF E0 00 1...|Apple Braeburn|\n",
      "|file:/Users/gaeld...|2021-09-12 19:25:42|  5572|[FF D8 FF E0 00 1...|Apple Braeburn|\n",
      "+--------------------+-------------------+------+--------------------+--------------+\n",
      "only showing top 20 rows\n",
      "\n"
     ]
    }
   ],
   "source": [
    "df.show()"
   ]
  },
  {
   "cell_type": "code",
   "execution_count": 8,
   "metadata": {},
   "outputs": [
    {
     "name": "stderr",
     "output_type": "stream",
     "text": [
      "                                                                                \r"
     ]
    },
    {
     "name": "stdout",
     "output_type": "stream",
     "text": [
      "+--------------------+-------------------+------+--------------------+--------------+--------------------+\n",
      "|                path|   modificationTime|length|             content|         label|            features|\n",
      "+--------------------+-------------------+------+--------------------+--------------+--------------------+\n",
      "|file:/Users/gaeld...|2021-09-12 19:25:42|  5656|[FF D8 FF E0 00 1...|Apple Braeburn|[255.0,255.0,255....|\n",
      "|file:/Users/gaeld...|2021-09-12 19:25:42|  5627|[FF D8 FF E0 00 1...|Apple Braeburn|[255.0,255.0,255....|\n",
      "|file:/Users/gaeld...|2021-09-12 19:25:42|  5613|[FF D8 FF E0 00 1...|Apple Braeburn|[255.0,255.0,255....|\n",
      "|file:/Users/gaeld...|2021-09-12 19:25:42|  5611|[FF D8 FF E0 00 1...|Apple Braeburn|[255.0,255.0,255....|\n",
      "|file:/Users/gaeld...|2021-09-12 19:25:42|  5611|[FF D8 FF E0 00 1...|Apple Braeburn|[255.0,255.0,255....|\n",
      "|file:/Users/gaeld...|2021-09-12 19:25:42|  5606|[FF D8 FF E0 00 1...|Apple Braeburn|[255.0,255.0,255....|\n",
      "|file:/Users/gaeld...|2021-09-12 19:25:42|  5606|[FF D8 FF E0 00 1...|Apple Braeburn|[255.0,255.0,255....|\n",
      "|file:/Users/gaeld...|2021-09-12 19:25:42|  5602|[FF D8 FF E0 00 1...|Apple Braeburn|[255.0,255.0,255....|\n",
      "|file:/Users/gaeld...|2021-09-12 19:25:42|  5599|[FF D8 FF E0 00 1...|Apple Braeburn|[255.0,255.0,255....|\n",
      "|file:/Users/gaeld...|2021-09-12 19:25:42|  5597|[FF D8 FF E0 00 1...|Apple Braeburn|[255.0,255.0,255....|\n",
      "|file:/Users/gaeld...|2021-09-12 19:25:42|  5594|[FF D8 FF E0 00 1...|Apple Braeburn|[255.0,255.0,255....|\n",
      "|file:/Users/gaeld...|2021-09-12 19:25:42|  5591|[FF D8 FF E0 00 1...|Apple Braeburn|[255.0,255.0,255....|\n",
      "|file:/Users/gaeld...|2021-09-12 19:25:42|  5589|[FF D8 FF E0 00 1...|Apple Braeburn|[255.0,255.0,255....|\n",
      "|file:/Users/gaeld...|2021-09-12 19:25:42|  5584|[FF D8 FF E0 00 1...|Apple Braeburn|[255.0,255.0,255....|\n",
      "|file:/Users/gaeld...|2021-09-12 19:25:42|  5584|[FF D8 FF E0 00 1...|Apple Braeburn|[255.0,255.0,255....|\n",
      "|file:/Users/gaeld...|2021-09-12 19:25:42|  5580|[FF D8 FF E0 00 1...|Apple Braeburn|[255.0,255.0,255....|\n",
      "|file:/Users/gaeld...|2021-09-12 19:25:42|  5576|[FF D8 FF E0 00 1...|Apple Braeburn|[255.0,255.0,255....|\n",
      "|file:/Users/gaeld...|2021-09-12 19:25:42|  5575|[FF D8 FF E0 00 1...|Apple Braeburn|[255.0,255.0,255....|\n",
      "|file:/Users/gaeld...|2021-09-12 19:25:42|  5574|[FF D8 FF E0 00 1...|Apple Braeburn|[255.0,255.0,255....|\n",
      "|file:/Users/gaeld...|2021-09-12 19:25:42|  5572|[FF D8 FF E0 00 1...|Apple Braeburn|[255.0,255.0,255....|\n",
      "+--------------------+-------------------+------+--------------------+--------------+--------------------+\n",
      "only showing top 20 rows\n",
      "\n"
     ]
    }
   ],
   "source": [
    "def process_image(content):\n",
    "    img = Image.open(io.BytesIO(content)).convert('L').resize([224, 224])\n",
    "    return Vectors.dense(np.array(img).flatten().tolist())\n",
    "\n",
    "process_image_udf = udf(process_image, VectorUDT())\n",
    "df_final = df.withColumn(\"features\", process_image_udf(df.content))\n",
    "\n",
    "df_final.show()"
   ]
  },
  {
   "cell_type": "code",
   "execution_count": 14,
   "metadata": {},
   "outputs": [
    {
     "name": "stderr",
     "output_type": "stream",
     "text": [
      "                                                                                \r"
     ]
    }
   ],
   "source": [
    "from pyspark.ml.feature import VectorAssembler\n",
    "assembler = VectorAssembler(inputCols=['features'],outputCol='features2')\n",
    "df_final = assembler.transform(df_final)"
   ]
  },
  {
   "cell_type": "code",
   "execution_count": 15,
   "metadata": {},
   "outputs": [
    {
     "name": "stderr",
     "output_type": "stream",
     "text": [
      "                                                                                \r"
     ]
    },
    {
     "name": "stdout",
     "output_type": "stream",
     "text": [
      "+--------------------+-------------------+------+--------------------+--------------+--------------------+--------------------+\n",
      "|                path|   modificationTime|length|             content|         label|            features|           features2|\n",
      "+--------------------+-------------------+------+--------------------+--------------+--------------------+--------------------+\n",
      "|file:/Users/gaeld...|2021-09-12 19:25:42|  5656|[FF D8 FF E0 00 1...|Apple Braeburn|[255.0,255.0,255....|[255.0,255.0,255....|\n",
      "|file:/Users/gaeld...|2021-09-12 19:25:42|  5627|[FF D8 FF E0 00 1...|Apple Braeburn|[255.0,255.0,255....|[255.0,255.0,255....|\n",
      "|file:/Users/gaeld...|2021-09-12 19:25:42|  5613|[FF D8 FF E0 00 1...|Apple Braeburn|[255.0,255.0,255....|[255.0,255.0,255....|\n",
      "|file:/Users/gaeld...|2021-09-12 19:25:42|  5611|[FF D8 FF E0 00 1...|Apple Braeburn|[255.0,255.0,255....|[255.0,255.0,255....|\n",
      "|file:/Users/gaeld...|2021-09-12 19:25:42|  5611|[FF D8 FF E0 00 1...|Apple Braeburn|[255.0,255.0,255....|[255.0,255.0,255....|\n",
      "|file:/Users/gaeld...|2021-09-12 19:25:42|  5606|[FF D8 FF E0 00 1...|Apple Braeburn|[255.0,255.0,255....|[255.0,255.0,255....|\n",
      "|file:/Users/gaeld...|2021-09-12 19:25:42|  5606|[FF D8 FF E0 00 1...|Apple Braeburn|[255.0,255.0,255....|[255.0,255.0,255....|\n",
      "|file:/Users/gaeld...|2021-09-12 19:25:42|  5602|[FF D8 FF E0 00 1...|Apple Braeburn|[255.0,255.0,255....|[255.0,255.0,255....|\n",
      "|file:/Users/gaeld...|2021-09-12 19:25:42|  5599|[FF D8 FF E0 00 1...|Apple Braeburn|[255.0,255.0,255....|[255.0,255.0,255....|\n",
      "|file:/Users/gaeld...|2021-09-12 19:25:42|  5597|[FF D8 FF E0 00 1...|Apple Braeburn|[255.0,255.0,255....|[255.0,255.0,255....|\n",
      "|file:/Users/gaeld...|2021-09-12 19:25:42|  5594|[FF D8 FF E0 00 1...|Apple Braeburn|[255.0,255.0,255....|[255.0,255.0,255....|\n",
      "|file:/Users/gaeld...|2021-09-12 19:25:42|  5591|[FF D8 FF E0 00 1...|Apple Braeburn|[255.0,255.0,255....|[255.0,255.0,255....|\n",
      "|file:/Users/gaeld...|2021-09-12 19:25:42|  5589|[FF D8 FF E0 00 1...|Apple Braeburn|[255.0,255.0,255....|[255.0,255.0,255....|\n",
      "|file:/Users/gaeld...|2021-09-12 19:25:42|  5584|[FF D8 FF E0 00 1...|Apple Braeburn|[255.0,255.0,255....|[255.0,255.0,255....|\n",
      "|file:/Users/gaeld...|2021-09-12 19:25:42|  5584|[FF D8 FF E0 00 1...|Apple Braeburn|[255.0,255.0,255....|[255.0,255.0,255....|\n",
      "|file:/Users/gaeld...|2021-09-12 19:25:42|  5580|[FF D8 FF E0 00 1...|Apple Braeburn|[255.0,255.0,255....|[255.0,255.0,255....|\n",
      "|file:/Users/gaeld...|2021-09-12 19:25:42|  5576|[FF D8 FF E0 00 1...|Apple Braeburn|[255.0,255.0,255....|[255.0,255.0,255....|\n",
      "|file:/Users/gaeld...|2021-09-12 19:25:42|  5575|[FF D8 FF E0 00 1...|Apple Braeburn|[255.0,255.0,255....|[255.0,255.0,255....|\n",
      "|file:/Users/gaeld...|2021-09-12 19:25:42|  5574|[FF D8 FF E0 00 1...|Apple Braeburn|[255.0,255.0,255....|[255.0,255.0,255....|\n",
      "|file:/Users/gaeld...|2021-09-12 19:25:42|  5572|[FF D8 FF E0 00 1...|Apple Braeburn|[255.0,255.0,255....|[255.0,255.0,255....|\n",
      "+--------------------+-------------------+------+--------------------+--------------+--------------------+--------------------+\n",
      "only showing top 20 rows\n",
      "\n"
     ]
    }
   ],
   "source": [
    "df_final.show()"
   ]
  },
  {
   "cell_type": "code",
   "execution_count": 16,
   "metadata": {},
   "outputs": [
    {
     "name": "stdout",
     "output_type": "stream",
     "text": [
      "root\n",
      " |-- path: string (nullable = true)\n",
      " |-- modificationTime: timestamp (nullable = true)\n",
      " |-- length: long (nullable = true)\n",
      " |-- content: binary (nullable = true)\n",
      " |-- label: string (nullable = true)\n",
      " |-- features: vector (nullable = true)\n",
      " |-- features2: vector (nullable = true)\n",
      "\n"
     ]
    }
   ],
   "source": [
    "df_final.printSchema()"
   ]
  },
  {
   "cell_type": "code",
   "execution_count": 18,
   "metadata": {},
   "outputs": [
    {
     "data": {
      "text/plain": [
       "Row(content=bytearray(b'\\xff\\xd8\\xff\\xe0\\x00\\x10JFIF\\x00\\x01\\x01\\x00\\x00\\x01\\x00\\x01\\x00\\x00\\xff\\xdb\\x00C\\x00\\x02\\x01\\x01\\x01\\x01\\x01\\x02\\x01\\x01\\x01\\x02\\x02\\x02\\x02\\x02\\x04\\x03\\x02\\x02\\x02\\x02\\x05\\x04\\x04\\x03\\x04\\x06\\x05\\x06\\x06\\x06\\x05\\x06\\x06\\x06\\x07\\t\\x08\\x06\\x07\\t\\x07\\x06\\x06\\x08\\x0b\\x08\\t\\n\\n\\n\\n\\n\\x06\\x08\\x0b\\x0c\\x0b\\n\\x0c\\t\\n\\n\\n\\xff\\xdb\\x00C\\x01\\x02\\x02\\x02\\x02\\x02\\x02\\x05\\x03\\x03\\x05\\n\\x07\\x06\\x07\\n\\n\\n\\n\\n\\n\\n\\n\\n\\n\\n\\n\\n\\n\\n\\n\\n\\n\\n\\n\\n\\n\\n\\n\\n\\n\\n\\n\\n\\n\\n\\n\\n\\n\\n\\n\\n\\n\\n\\n\\n\\n\\n\\n\\n\\n\\n\\n\\n\\n\\xff\\xc0\\x00\\x11\\x08\\x00d\\x00d\\x03\\x01\"\\x00\\x02\\x11\\x01\\x03\\x11\\x01\\xff\\xc4\\x00\\x1f\\x00\\x00\\x01\\x05\\x01\\x01\\x01\\x01\\x01\\x01\\x00\\x00\\x00\\x00\\x00\\x00\\x00\\x00\\x01\\x02\\x03\\x04\\x05\\x06\\x07\\x08\\t\\n\\x0b\\xff\\xc4\\x00\\xb5\\x10\\x00\\x02\\x01\\x03\\x03\\x02\\x04\\x03\\x05\\x05\\x04\\x04\\x00\\x00\\x01}\\x01\\x02\\x03\\x00\\x04\\x11\\x05\\x12!1A\\x06\\x13Qa\\x07\"q\\x142\\x81\\x91\\xa1\\x08#B\\xb1\\xc1\\x15R\\xd1\\xf0$3br\\x82\\t\\n\\x16\\x17\\x18\\x19\\x1a%&\\'()*456789:CDEFGHIJSTUVWXYZcdefghijstuvwxyz\\x83\\x84\\x85\\x86\\x87\\x88\\x89\\x8a\\x92\\x93\\x94\\x95\\x96\\x97\\x98\\x99\\x9a\\xa2\\xa3\\xa4\\xa5\\xa6\\xa7\\xa8\\xa9\\xaa\\xb2\\xb3\\xb4\\xb5\\xb6\\xb7\\xb8\\xb9\\xba\\xc2\\xc3\\xc4\\xc5\\xc6\\xc7\\xc8\\xc9\\xca\\xd2\\xd3\\xd4\\xd5\\xd6\\xd7\\xd8\\xd9\\xda\\xe1\\xe2\\xe3\\xe4\\xe5\\xe6\\xe7\\xe8\\xe9\\xea\\xf1\\xf2\\xf3\\xf4\\xf5\\xf6\\xf7\\xf8\\xf9\\xfa\\xff\\xc4\\x00\\x1f\\x01\\x00\\x03\\x01\\x01\\x01\\x01\\x01\\x01\\x01\\x01\\x01\\x00\\x00\\x00\\x00\\x00\\x00\\x01\\x02\\x03\\x04\\x05\\x06\\x07\\x08\\t\\n\\x0b\\xff\\xc4\\x00\\xb5\\x11\\x00\\x02\\x01\\x02\\x04\\x04\\x03\\x04\\x07\\x05\\x04\\x04\\x00\\x01\\x02w\\x00\\x01\\x02\\x03\\x11\\x04\\x05!1\\x06\\x12AQ\\x07aq\\x13\"2\\x81\\x08\\x14B\\x91\\xa1\\xb1\\xc1\\t#3R\\xf0\\x15br\\xd1\\n\\x16$4\\xe1%\\xf1\\x17\\x18\\x19\\x1a&\\'()*56789:CDEFGHIJSTUVWXYZcdefghijstuvwxyz\\x82\\x83\\x84\\x85\\x86\\x87\\x88\\x89\\x8a\\x92\\x93\\x94\\x95\\x96\\x97\\x98\\x99\\x9a\\xa2\\xa3\\xa4\\xa5\\xa6\\xa7\\xa8\\xa9\\xaa\\xb2\\xb3\\xb4\\xb5\\xb6\\xb7\\xb8\\xb9\\xba\\xc2\\xc3\\xc4\\xc5\\xc6\\xc7\\xc8\\xc9\\xca\\xd2\\xd3\\xd4\\xd5\\xd6\\xd7\\xd8\\xd9\\xda\\xe2\\xe3\\xe4\\xe5\\xe6\\xe7\\xe8\\xe9\\xea\\xf2\\xf3\\xf4\\xf5\\xf6\\xf7\\xf8\\xf9\\xfa\\xff\\xda\\x00\\x0c\\x03\\x01\\x00\\x02\\x11\\x03\\x11\\x00?\\x00\\xfd\\xfc\\xa2\\x8ad\\x92\\xc7\\x14m4\\xae\\x15T\\x12\\xcc\\xc7\\x00\\x01\\xdc\\xd0\\x00\\xdb\\x94rGOJ\\xf0\\xff\\x00\\xdb\\x13\\xfe\\n\\x03\\xfb9\\xfe\\xc5>\\x1cMO\\xe2\\xc7\\x89\\x9emR\\xf1d\\xfe\\xcc\\xf0\\xf6\\x93\\x1f\\x9fyt\\xcb\\x81\\xf7\\x17\\x94@\\xcc\\x80\\xb9\\xe1w\\x82k\\xc2\\x7f\\xe0\\xa0\\xff\\x00\\xf0S\\xedo\\xc0\\x177_\\x03\\x7fe;\\xc8\\x9b\\xc5P\\\\\\xacz\\xcf\\x8a\\xa6\\x829\\xed\\xf4\\xd8\\xca\\xab\\x81n\\xad\\xb9&\\x91\\xb7\\x00K\\x82\\xa8\\x01\\x1bX\\xb0+\\xf9\\xd5\\xaf\\xf8U\\xf5\\x1d^\\xe7\\xc5>%\\xd5.\\xb5\\x8d{P\\x94\\xcf\\xaaj\\x9a\\x9d\\xcb\\xcf4\\xf3\\x13\\xbb,\\xeeI<\\xf4\\xc600\\x07\\x00\\n\\xf9\\x0c\\xf7\\x8b0\\xd9ct\\xa8.y\\xad\\xfb/\\xf3~G\\xde\\xf0\\xdf\\x04W\\xcc\\xd4k\\xe3\\x1b\\x857\\xb2_\\x14\\x97\\x7f\\xee\\xaf7\\xab\\xe8\\xba\\x9e\\x85\\xfbY\\xff\\x00\\xc1\\xc3\\x7f\\xb6\\x7f\\x88.\\x1a\\xc3\\xf6z\\xf8\\x7f\\xa6x\\x03O\\xfbG\\x9di\\x7f\\xa8X%\\xf5\\xec\\xb0\\x8e\\x0cR\\t\\x83D2pw\"\\x83\\xef_\\x0c\\xf8\\xdf\\xf6\\xf4\\xff\\x00\\x82\\x84x\\xdbN\\xd4\\xed\\xbcW\\xfb_|L\\xbb\\xb0\\xd4\\xd5\\x86\\xa1\\xa7\\xbf\\x8b\\xef\\r\\xab#\\xf5\\x8f\\xca\\xf36\\x04\\xff\\x00g\\x18\\xafe\\xf8\\xc1\\xe0\\r:\\xe2\\x03o\\xa6H\\xb72\\xcd\\x1eRN\\xb8\\xf5^k\\xc6uO\\x86:\\xbf\\x864\\xbb\\x8d\\xf7\\xb2\\x0b{\\xb8\\xc1\\x9a\\x08\\xd8\\x85*:n\\x19\\xe7\\x1e\\xf5\\xf1\\xbf\\xeb>;\\x13\\xefT\\x9b^[/\\xc0\\xfd\\xb3+\\xe1\\x8e\\x17\\xc1\\xe1\\x12\\xa7\\x87\\x873\\xd3\\xde\\\\\\xcd\\xfc\\xe4\\x9f\\xe8x\\xfc\\x9f\\x16><\\xe8\\x17qx\\x97F\\xf8\\xb5\\xe2KG\\x17\\x19\\x82\\xee\\r^Tq*`\\xe4\\x10\\xd9\\xc8\\xf9Mv\\xba7\\xfc\\x15\\x1b\\xfe\\nq\\xe1o\\x13\\xd9\\xf8\\xae\\xdb\\xf6\\xe8\\xf8\\xa7<\\x96W+,6\\x9a\\x8f\\x8do.-\\xa5 \\xe4\\t \\x92B\\x92)\\xee\\xac\\x08#\\x8cW\\x1b\\xe2\\x1f\\x0e\\xfd\\x83X\\x92#\\x02\\xcc\\xab0*\\xac\\xa4eH\\xcf>\\xd8\\xc5g\\xdexMf\\xb9/\\xb7\\x1b\\x9c\\x98\\xc0\\x07j\\x8fA\\x9c\\xe6\\xbdj9\\x9e%Y\\xf3\\xbf\\xbd\\x9d\\xd3\\xe1l\\x8f\\x11x\\xfb\\x085\\xfe\\x18\\xff\\x00\\x95\\xcf\\xb7~\\x07\\x7f\\xc1\\xd1\\x1f\\xf0Q\\xbf\\x87\\x1a\\xad\\xdd\\xf7\\xc6+?\\x08\\xf8\\xff\\x00O\\xca\\xee\\xb5\\xbd\\xd1\\xe2\\xd3\\xe4\\xb7M\\xcb\\xb9\\xa26\\x82=\\xcd\\x8c\\x8f\\x9f#\\xe6\\xe9_\\xac\\x7f\\xf0N\\x8f\\xf8.\\'\\xece\\xff\\x00\\x05\\n\\xb1\\x83\\xc3\\xda\\'\\x8a\\xa1\\xf0w\\x8e\\x19\\x99_\\xc1>\"\\xbeD\\xb9\\x97lfFx\\x1b\\x85\\x99\\x02\\xa9$\\x8e\\x9d+\\xf9\\xa5\\xf1_\\x83\\x9a\\xcc-\\xa8\\x88\\x06\\x8f\\xfdf\\x7f\\x88\\x9a\\xe0|A\\xa7]hw\\xc9\\xa8i7\\x06\\x0b\\x9bw\\x12\\xc1<\\x04\\xa3\\xc6\\xe0\\xe42\\x91\\xc8 \\xf4=E}\\x0e\\x039\\xab)%7t~w\\xc4\\x9e\\x1d`=\\x93\\xab\\x82\\\\\\x8f\\xb2\\xdb\\xee\\x7f\\xa1\\xfd\\xb3\\x9d\\xdd\\x8d/^\\r~*\\xff\\x00\\xc1\\x00\\xbf\\xe0\\xe0\\xa9\\xfe#>\\x91\\xfb\\x0e\\xfe\\xdd\\x9e3\\xdf\\xe2\\x15\\xdbg\\xe0_\\x88\\x1a\\x9c\\xe3v\\xa6\\xa3\\x84\\xb3\\xbd\\x90\\xfd\\xe9\\xc7\\n\\xb3\\x9ed\\xe3~[.\\xdf\\xb58;\\xb3\\xed_MN\\xa4jG\\x9a\\'\\xe2X\\x9c5l%gJ\\xaa\\xb3B\\xd1E\\x15\\xa1\\x88\\xc3\\xc0\\xc89\\xf5\\xaf\\x93\\xff\\x00\\xe0\\xa0\\xdf\\xb5\\xb6\\xbd\\xe0\\xbd\\x12o\\x85\\x1f\\x065{c\\xa9]\\xdb\\xcd\\x06\\xbb~`\\xf3>\\xc6\\x8c\\x00\\x0b\\x1bn\\xdb\\xe6cp \\xab\\x01\\x9cpA\\x03\\xd6?j\\xbf\\x8c\\x8d\\xf0\\xdf\\xc2\\x03\\xc3Z!\\x93\\xfb_Y\\x86H\\xe1\\x96\\xde\\xe9\\x11\\xec\\xa3\\xc73\\x10r\\xde\\xa1p\\xa4\\x12\\x08\\xc8\\xaf\\x80|q\\x1c\\x1a\\x86\\xb4\\x16\\xea\\xe82\\xa1&Eb[\\xafRy\\xc9\\xfeu\\xf9\\xff\\x00\\x1aq4\\xb2\\xd8\\xac\\x0e\\x19\\xfe\\xf2kW\\xfc\\xab\\xfc\\xdf\\xe0\\xb5>\\xc3\\x84rHf\\x18\\xc5^\\xba\\xbc\"\\xefn\\xed~\\x87\\x8a\\xf8G\\xc1\\xbaV\\x8c\\xf2.\\xaedl\\x8f\\xf5\\x811\\xbf\\'\\xa9\\xe7$\\xfe\\x1d\\xea=[J\\xf0\\xd5\\x9d\\xf3\\x18\\xf5\\\\\\xa9g\\x11*\\x00\\xcc\\xccT\\xe0a\\x8f\\'\\xb7\\xb5u_\\x12\\xfcQ\\xe1\\xfd\\x12\\xdfe\\xa2$\\xa4\\x0c\\x04\\xf3Dg \\x13\\xc6}@\\x18\\x1dy\\xf7\\xaf\\x8c\\xbfh\\xff\\x00\\x8f\\x1a\\xbe\\x9b\\xae\\xcb\\x0e\\x96\\x8fk\\x98Y\\x8a\\t\\x86Q\\xc7\\xe3\\xd4q\\xef_\\x9c\\xe1\\xe9U\\xab\\xef\\xee~\\xfb\\x82\\xc3\\xcf\\x15&\\xe2\\xf9n\\xbf\\xad\\x0e\\xab\\xe2\\xdf\\xc6M\\n\\rxh\\xb6\\xea!\\xf2\\x86$Y\\xe1#\\'8\\xe4\\xe3#\\x8fJ\\xf1?\\x8a\\x7f\\x12\\xef\\xe6\\x8dt\\xa9\\'kx\\xe5\\xf9\\x8cQ\\xa9\\x19\\x8d\\x86U\\x83s\\x90s\\xd2\\xbc\\xeb_\\xf8\\xaf\\xa9\\xf8\\xc7]\\xfb_\\x88\\xef\\xdc\\xbc\\xa7\\x0btA\\x1c\\xfb\\xff\\x00\\x8dwZW\\x84\\xf4\\xdf\\x16X\\xda\\xdf]]\\x15t\\x01J\\xbb\\xe4\\x1c\\x1e\\xd5\\xe8\\xbc$i\\xc9T\\xaa\\x8c\\xf1\\xf9\\x96\\x1b)\\x94\\x15M_\\xdf\\xaf\\x91\\xcf]\\xe8Z\\xcf\\xfc \\xfa\\x8f\\x8a\\xa7\\xd3\\x12\\xe9c\\xb7P\\x82iY\\tb\\x02\\xe7=NB\\x8e\\x07>\\x98\\xe6\\xb4\\xbfd\\x9f\\x0f\\xf8\\x9b\\xe2\\xc5\\x95\\xe7\\x83\\xb5\\x9f\\n\\x19$\\xb7\\x98\\x98\\xef\\x923\\x98\\x90\\x93\\x85\\xf7\\xda0\\xa3\\x9frMw_\\x1d\\xa3\\xd3\\xfc3\\xe1?\\t\\xf82\\xc2\\xc5\\xe4\\x97Qc4p\"\\x1d\\xcd\\x93\\xb5\\t\\xf5\\x00d\\xfe5\\xf6\\x97\\xec\\x91\\xf0\\x17\\xc1_\\x06\\xbe\\x0f\\xc3\\xad\\xea\\xb6\\xca5=B\\xdf(<\\xb1\\xb9\\x98\\x8e\\xa7>\\x995\\xd1\\x85\\xc7{H\\xf28\\xd96\\xed\\xe8\\x8f\\x92\\\\I\\x89\\xa9\\x98\\xa9Ro\\x9aZ%\\xd1/N\\xe7\\xc1_\\x1b\\xfe\\x04\\x0f\\x00\\xac\\xb2\\x89n\\x19\\x8a\\xf3+\\xc1\\xf2\\xee?\\xc3\\xbb>\\x80\\xf6\\xff\\x00\\x11\\xf3\\x07\\xc4\\x1b\\x00/\\x08R\\x17\\xfb\\xc1}k\\xf4\\'\\xf6\\xd4\\xd05\\xe9\\xfc\\xd6\\xb4\\xd3\\xdd\\x81\\x94\\x91 \\x07\\xa7>\\xbcW\\xc3_\\x12\\xbc\\x1b\\xaaA,\\x972Z\\xb0\\x93q,\\x18\\x8c\\xfeU\\xeaa\\xaa\\xbau-s\\xf5l57\\x8b\\xcb9\\xaa;\\xb6\\x8f\\x12\\xd5\\xaeo4\\xbb\\xb5\\xbd\\xb0\\xb9\\x92\\x1b\\x8by\\x84\\x90\\xcd\\x19\\xc3#\\x03\\x90A\\xecA\\xaf\\xe9\\xd3\\xfe\\r\\xd0\\xff\\x00\\x82\\xba\\x1f\\xf8(w\\xec\\xdb\\xff\\x00\\nc\\xe2\\xd4\\x90E\\xf1?\\xe1\\xad\\x85\\xbd\\x96\\xa9p\\x93\\x1ck\\x96\\x01v[\\xdf\\x00\\xec[\\xce*\\x9bf\\xc1`dS\\'\\xca$\\x08\\xbf\\xcc\\xef\\x8c\\xac\\xaeC5\\xdc\\xcb\\xf3\\xb9\\xe7#\\x195\\xec\\xbf\\xf0H\\x8f\\xdbk\\xc4\\xdf\\xb0O\\xed\\xeb\\xe0\\x9f\\x8b\\xfaM\\xcc\\x83L\\xba\\xd5#\\xd2\\xbcGj.\\x16$\\xb9\\xb1\\xb8uGWv\\xe1T\\x1d\\xaeI\\xe8\\x12\\xbe\\xf3+\\xc4sF\\xd7?\\x9e\\xb8\\xef)\\xf6X\\x97Q-\\x8f\\xec\\x82\\x8a\\xab\\xa7j\\x1a~\\xb7\\xa7[\\xeb:E\\xec\\x17v\\x97p$\\xd6\\xb7V\\xd2\\x89#\\x9a6\\x00\\xab\\xa3\\x03\\x86R\\x08 \\x8e\\x089\\xa2\\xbd\\xd3\\xf3#\\xe1\\xff\\x00\\xda\\xcb\\xe2~\\xb5\\xe2\\x8f\\x88:\\xe1\\xd7c\\x82\\xd6=\\x16\\xf6};O\\x10\\xf50\\xc5+\\r\\xcc{\\x969lv\\xce+\\xe5\\xd7\\xf1\\x8b\\xf8\\x9b\\xc4\\x9f\\xf0\\x8c\\xe9\\x98\\x96i\\x19\\x88dS\\x8e3\\xd4\\x8e\\x95\\xd6\\xfcH\\xf8\\xbbi\\xe2\\xcb\\xedOW\\xf1\\x8d\\xc1\\xb8\\xbb\\xd4.\\xday\\x928\\xc2\\xefwl\\xb1\\n8\\x1c\\x9e\\x95\\xad\\xf0O\\xc0\\xde\\n7\\xe7\\xc4\\x16\\xf7J0\\xc5N\\xdc\\x10\\x1b\\xbes\\xdf\\xfck\\xf9\\xd3\\x17^9\\x86}R\\xbd{\\xdaR\\x7fu\\xf4\\xfc\\x12?x\\xc8p\\xb4r\\x9c\\xb5:\\x89\\xa7e\\xe9{\\x7f\\x99\\xf2\\xb7\\xc7v\\xd7\\xf4\\xdd3T\\xb2\\xba\\xb4\\xb6\\x8aX\\xdd\\xa4\\x8ey\\'\\n]@\\xe8\\x18\\x9e\\xbe\\x83\\xaf\\xca}\\xeb\\xf3\\xff\\x00\\xe2\\x9f\\x8bt\\xcb\\xfdF\\xea\\rJ\\xd2\\xe38fY\\xd6\\xe4\\xc8\\xc1\\xb9\\xe3\\x9fq\\xfa\\xd7\\xeb\\xf7\\xed\\xc9\\xf0\\xa3\\xc3w\\x9e\\t\\xbc\\xd6?\\xb3\\x15\\xaeJ\\x14\\x81\\xa2\\x8cn*@\\'$u\\xed\\x8fL\\x1a\\xfc\\x9b\\xf8\\xb9\\xe1\\x0f\\xf4\\xc9 \\x1a9\\xc4R\\x15\\xdc\\x90\\x80Nz\\xee`2\\xdf\\x8f\\xbd}\\x05:\\xb4a$\\xe1\\xb1\\xfa>GR\\x96a\\x82\\x94\\xe3{\\xecp>\\x1b\\xb3\\xd3\\xb5H\\x1dn\\xe0\\x17\\x11\\xb6A8\\xc3)\\xfe\\x95\\xd7h\\xde/]\\x02{m:s,\\xb1y\\xb1\\xc4\\xb0\\xa1%\\x88\\xc8\\x18\\xfa\\xe2\\xb3\\xbc\\t\\xe1\\x87\\xd25h\\xa2\\x9e5H\\x1aU23\\x81\\x85\\x1d\\xf2+\\xd4\\xed~\\x07\\xf8\"\\xfb[\\xd2\\xbcOm\\xe3E\\xd3\\xafm\\xaf\\x12x\\x83(h\\x9c\\x83\\x9c\\x10{V\\xf5*P\\x9c\\xed7\\xa1\\xf9\\x8f\\x14`\\xf3\\x18\\xe2\\x9e\\x8d\\xadm\\xbb=;\\xe1\\xe7\\x85-~5~\\xd7\\xfa\\x8c+\\x0b\\xbe\\x91\\xe0\\x8b[k\\x18Y\\xb9P\\x04jW\\xf1\\xe7\\xf1\\xc5}\\xc5\\x15\\xde\\x87\\xa3hp\\x1dL\\xa6-\\xe3\\xc4A\\xd8\\x05Q\\x8e\\x95\\xf2\\xc7\\xc3\\xe9\\xbe\\x1c\\xfc\\x03\\xd3\\xf5\\x1d_@\\xbf\\x12^k\\xf7\"\\xf7R\\xbd3\\x173\\xca#T\\x07\\x93\\xc0\\n\\x8a08\\xe3\\xdc\\xd7\\x19\\xf1s\\xf6\\x8b\\xd6<Mvc\\xd3\\xfcBv2\\x15[q&\\xe4\\xcfL\\x12:\\x1e\\xff\\x00\\x8d|\\xbe&\\x9c\\xeaV\\x8d\\x1a\\x0fH\\xee\\xfc\\xfa\\xfe79xk!\\xc7f8\\xcfi\\xca\\xe2\\xb6\\xbb\\xb9\\xea?\\xb4\\xf7\\xc5\\x7f\\x0e\\xde\\xda\\\\X\\xc1\\x1b\\xcd\\x19BLp0u~\\xdd\\xbb\\x8c\\x8a\\xf83\\xe2\\xce\\xb1m\\x7f\\x7fsie\\xa6\\x88\\x9e\"CD[\\x04\\x9fO\\xadv\\x7f\\x12>!\\xde\\xf8N\\xc0Iu\\xe3;[\\xa8&\\x06I-b\\xb8\\x0c\\xd10 \\xfc\\xc3\\xaa\\x93\\xd3=q\\x9a\\xf9\\xcf\\xc6\\x1f\\x17m\\xf5K\\x99dH\\x96b\\x1f\\x1b!\\xce\\xec\\x9fE\\x15\\xf4\\xb9~_Y\\xb4\\xd5\\xe4~\\xc1\\t\\xe02,\\'-j\\xa9y\\xb7o\\xc1\\x98^?\\x80[\\xc4au\\xc1e\\xdd\\x86^\\x9f\\x8dyf\\xb8E\\xbd\\xc6Cd\\x1eA\\x06\\xba\\xcf\\x1ax\\xe3S\\x88\\xb5\\xad\\xcd\\xa4\\x81\\x9b\\x81\\x14\\x8b\\xc8\\xae7]\\xb5\\xd6\\xad\"\\x86}^\\x13\\x0f\\x9e\\xbb\\xa0\\x8aC\\xf3\\x14\\xfe\\xf0\\x1e\\x99\\xcf\\xe2\\r}\\xeeUF\\xad(\\xdeG\\xe3\\\\c\\x9a`q\\xb5\\x1ciK\\x9a\\xe7\\xf5\\xf3\\xff\\x00\\x04\\x1a\\xfd\\xac?\\xe1\\xb0?\\xe0\\x97\\xbf\\r|y}\\xacAu\\xadh\\x1ay\\xf0\\xdf\\x88R\\xd2\\xdf\\xcbK{\\x8b,$q\\xe1\\xba\\x9f\\xb2\\xb5\\xab\\x128%\\xcf|\\xd1_\\xcf\\x17\\xfc\\x13\\x87\\xfe\\x0b\\x9b\\xfbY\\xff\\x00\\xc18~\\x00\\\\\\xfc\\x03\\xf8#}\\xa7G\\xa3\\xdd\\xf8\\x8e\\xe3X\\x95ntXn\\x1b\\xcf\\x96(\"c\\xb9\\xc6q\\xb6\\x04\\xe3\\xa7\\xe7E}$f\\xec~G*O\\x99\\x9f\\xa1_\\xb4\\xa4\\x1a\\xdf\\x83\\xbcY\\xa8\\xf8[[\\xb3\\x9a\\xdfQ\\xd3\\xaf\\\\^!8x\\xdd\\x0e\\x1a3\\x83\\x8e\\x08<\\xd7#\\xf0\\xe7\\xe3\\xef\\x8d\\xfc#v\\xb1\\xea\\x1a\\x93\\xc6\\x92?\\x98\"yJ\\r\\x8c\\x06\\x08\\x03\\xd4c\\x1f\\x8dz\\xef\\xfc\\x14\\x068\\xae\\xff\\x00i\\x0f\\x88v\\x89*\\xc4\\xc7\\xc5w\\xc0\\xca\\xcb\\xf7\\x7f|\\xf9\\xfa\\xd7\\xc9+qsyv\\x11/\\x9aw\\xb6v\\x92di\\x15K\\xa8<.[\\xef`\\x1e\\x00\\xecF;\\xd7\\xe1x\\x9c,(\\xe3\\xa7\\x16\\xb4Rk\\xeel\\xfe\\xb0\\xe1\\x85\\x86\\xccrZ~\\xd2)\\xde1n\\xfeim\\xf3>\\xf3?\\x1b\\xf4\\x0f\\x8c\\xbf\\r\\x8e\\x89\\xa8N&\\xb9hV\\x00\\xc5\\x02\\xaa\\x10\\x01\\x04rI\\xe79\\xe4v\\xe9\\x8a\\xf9\\xc3\\xe2\\xe7\\xc0\\xfd/H\\xb7\\xbc\\xbd\\x8e\\xc6\\x18\\xa4\\xba*\\xb3\\xcd\\xf6ea\\xb0\\x11\\x90\\xbb\\xb2A?\\xde\\xce\\xee\\xc0\\x8c\\x9a\\xe6|\\x0f\\xe3\\xc4\\xd0/R\\xebO\\xbeH\\xd5\\x87\\xfc{\\xa3\\x90\\x03z\\x96=9\\xcex\\xed]\\xe5\\xcf\\xc6k/\\x10\\x93\\xa5k\\x04\\xdc\\xab\\x05GV\\xda\\xdf6A\\x18<\\x0fNy\\xfc:\\xd7mhQ\\xaf\\x05m\\x1a\\x13\\xcb\\xaae\\xf5Z\\xa3\\xf0^\\xed#\\xe5\\xcf\\x13\\xfc\\x14\\xd4UZ\\xe7N\\xb3\\x93\\xcbdfT+\\xb7y\\xecF:\\x8cW;\\'\\xc3\\x1dvyd\\x8fK\\x06i`\\xb68\\xb5vd\\x92%=\\x1foB1\\xc8\\xc7\\xe5_Ux\\xefR\\xf0\\x8d\\xba\\xc6\\x90BZY\\x00XPJp\\x08\\xe8\\x98\\xe8\\xbe\\x9dk:\\xc3E\\xf0\\x85\\xf5\\xcc\\xfa\\x8d\\xdd\\xc2F\\xec\\xcaD\\xaa\\xb8e\\x0b\\xc7\\xcax ~5\\xcb\\ns\\xa6\\xec\\xd9\\xd5\\xf5\\xcb\\xa5)B\\xff\\x00#\\xc1\\xf5x|E\\x17\\x84!\\xd05\\x0b6\\x86K\\x14\\xf2\\xe5r\\x1by?x\\x13\\x93\\xc1\\xc3c\\x00v\\xae.\\xea\\xee\\xc2\\r6xRk\\xa8e+\\x90\\x02}\\xe6\\xf5\\xdc}\\x87#\\xdf\\xda\\xbe\\x8c\\xf8\\xd5\\xa7hPY\\xb3\\xe9\\xb7*\\xe2fID\\xcd\\x96~\\x98\\xe5\\x89>\\x9e\\xf5\\xe1>(\\xd4|>\\xb0\\xdeYk\\x97\\xea\\xb25\\xb16n\\x13!\\x98\\x1c\\x15\\xecs\\xd0\\xd5\\xc5B\\x9c\\xdf*\\xfb\\x8fC\\tV\\x840\\xb7\\x8c\\\\n\\xefe\\xb9\\xf3\\xf7\\x8d\\xfc/ic}q\\xa8\\xeaV\\xad\\xabKp\\xbb\\xa2K\\xfb\\xc9\\x8a\\xc4NF\\xe0\\xb1\\xba\\xa9\\xc7\\xa3\\x028\\xe9\\\\\\xd6\\xa7\\xa8\\xe9\\x9a~\\x80\\xbat\\xd0\\x81y\\xc8\\xd9cn\\x90\\x8fl\\xec\\x03uv\\xde?1Y\\xb2\\xad\\xa3\\x07\\x8c\\x0cH\\xc1\\x8e\\xe6\\xfa\\xff\\x00\\xf5\\xab\\xcc<Wu\\r\\xab\\xfd\\xa2\\x19\\x8e\\xf5l\\xc6\\xcb\\xc1\\x06\\xbe\\x9b\\tV\\xa5XF\\x17\\xd0\\xf9\\xcc\\xd3\\x01\\x97S\\xa9*\\xfc\\x89\\xc9\\xf5w\\x7f\\x9bv\\xf9X\\xe4\\xbcY\\xaa\\xdcOx\\xb73\\xbb<\\xc3!g\\x95\\x8b:\\xfar{\\x8a\\xe25\\x12\\xf77\\x8c\\xcf!v,~s\\xd5\\xbd\\xebs\\xc5\\x1a\\xcc\\xf7\\x97R\\xcfp\\xf9gvf\\xc0\\xc6I>\\x83\\xa5`YGqy\\x7f\\x1d\\xbd\\xb2\\x16\\x92W\\n\\x8a\\x06I\\'\\x81_a\\x82\\xa6\\xe3\\x04\\xcf\\xc5x\\x8f\\x11NuZ\\x89\\xf6\\xbf\\xec\\x01\\xff\\x00\\x04n\\xfd\\xab\\x7fo\\x1f\\x81\\xb3\\xfcj\\xf85\\xe0\\x99\\xef\\xf4\\x8bmz}-\\xa7D\\\\y\\xd1E\\x0c\\x8c:\\xfaL\\xbf\\x9d\\x15\\xfd\\x1f\\x7f\\xc1\\x0e\\xbfc\\xe8\\xbfb\\x8f\\xf8&\\xbf\\xc3\\xdf\\x86w\\x93+\\xea\\xda\\xdd\\x80\\xf1\\x1e\\xba\\xf0\\xca^3sz\\x88\\xea\\x17(\\xa4b\\x15\\x85H \\xe1\\x95\\xb9#\\x14W\\xaf\\xc8\\x8f\\x82\\x94\\xdf3\\xd4\\xf9\\x8f\\xfe\\x0bU\\xf0\\x06\\x7f\\x86\\xbf\\x11\\xa2\\xf8\\xb7\\xa0[\\x88\\xb4\\xaf\\x16\\x86i\\xca\\x05\\x02;\\xe5\\x19\\x90cqf/\\xfe\\xb0\\xb6\\x00\\xcb\\x10:W\\xe6\\x87\\x89\\xa5\\x9fG\\xd4\\xda\\xe2\\xe3\\xe6t\\xe5\\x15x\\x07#\\x01\\x87\\xe5_\\xd0\\x9f\\xfc\\x14\\x0f\\xf6b\\x8f\\xf6\\xa6\\xfd\\x9d5_\\x07i\\x96\\t6\\xbdc\\x1b^x}\\xca\\xae\\xff\\x00\\xb4(\\xff\\x00V\\x19\\x88\\n\\x1c\\r\\xa4\\xd7\\xf3\\xfb\\xf1\\x8b\\xc3\\xda\\xc6\\x8b\\xe2\\x1b\\xed\\x03\\xc4Zd\\xb6Z\\x9d\\x9d\\xd3\\xda]\\xda\\xdc\\xa1I-\\xe4\\x8d\\x99\\x19\\x18\\x1f\\xbaA\\x04\\x10y\\x18\\xc7j\\xfc\\xf3\\x89\\xb2\\xd7G\\x1e\\xea\\xc5{\\xb3\\xd7\\xe7\\xd7\\xfc\\xcf\\xe8\\x0f\\x0b\\xb3\\xfaur\\xef\\xaa\\xd4~\\xf5=>]\\x1f\\xe9\\xf29\\x1b\\x1f\\x19j\\x16z\\xcc\\x8b\\r\\xe3\\xca\\x1ffCc\\x04w\\xc9\\xf5\\xcf\\xb7\\xadt\\xda\\x17\\x8fe\\xd3n\\xa4\\xf1\\x16\\xa5 \\x10\\x08\\xdc\\xc0\\x80\\xe4\\xb4\\x8b\\x8f\\x94\\x01\\xc8\\xe4\\x8eMy\\xe5\\xce\\xa7.\\x9d\"5\\xd5\\xacD h\\x91\\xa2\\xc6\\xe2\\xc0\\xe7q\\xc7_\\xbd\\xd7\\xbe=\\xaa;\\x9f\\x12\\xc7g\\x02\\xc4Y\\x89\\xdf\\xbdde\\xc7\\xd4s\\xda\\xbem\\xd2\\x95\\xd2G\\xebU\\xeb\\xd2\\xab\\x1d\\xbc\\x8e\\xfa\\xf7\\xe2f\\xbf\\xe3\\x1b\\x95\\x8a\\xcd\\x0c\\x93\\x99\\xb7[\\xc7\\x1a\\x92\\xdea\\xe3\\'\\xf3\\xaf_\\x9f\\xc2\\x1a\\x8d\\xaf\\x84m\\x16\\xeaW\\xfbQ\\xb7\\x06u^\\x0b1\\xe7>\\xd8\\xce=\\xf1\\x9fj\\xf1?\\xd9\\x86\\xfbM\\xd5>&$\\xf7\\x0eF\\xd0X\\x0cq\\x9a\\xfa[\\xc7\\x1a\\xbd\\x9d\\xdd\\x87\\x90S\\n\\xaa\\x17r\\x9e@\\xaf\\x1f\\x1f\\x88\\xabJ\\xbf\\xb3G\\xc5\\xe7Y\\x9f\\xd5q\\xb4\\xe8R\\x8d\\x96\\xf7\\xf5<G\\xc6\\xd2j\\xd0i\\x83N\\x9eu\\x0c#\\x91VH\\xd4\\x96\\x90o\\'\\x9c\\xfag\\x15\\xf3g\\xc4\\x8dWS\\xd3\\xeeM\\x84\\xd3o\\x00\\x92\\xa1\\xbf\\x83\\x9e\\xd5\\xf5\\xb7\\xc5-\\x0e\\xc5\\xbc=\\xfd\\xa1a~\\xc1\\x02\\x1f\\x97\\x8e}\\xc6;\\xd7\\xc4\\x7f\\x16\\xfcF\\xb2\\xf8\\x8ek8\\x14\\xb1\\x8aFQ\\x83\\x92GS]\\xf9R\\x95J\\xbc\\xaf\\xd4\\xe9\\xc0g4\\xeaS\\x9f\\x91\\xcd\\xf8\\x8b\\xc4\\x13(7\\x12\\xdc\\x93\\x1e\\xed\\xb8,:\\xe3\\xd3\\xf0\\xaf3\\xf1F\\xb4\\x93^\\x14\\x8a\\xe3h\\'\\x86a\\xc0\\xad\\x7f\\x14\\xea\\x8d\\x99\\x1d\\xe6>\\xa3\\x1d\\xab\\x88\\xd6\\xef\\x8c\\xee\\\\.}\\xf3\\xd6\\xbe\\xfb-\\xc2+\\xa93\\xe3x\\x8f:\\\\\\xadE\\x99:\\xb5\\xd7\\x9e\\xd8;~P~a\\xdf\\x9a\\xfb\\x07\\xfe\\x08O\\xfb\\x08\\xeb?\\xb7_\\xed\\xf9\\xe1/\\x075\\xab\\x8d\\x13A\\xbcMg^\\xba\\x08\\x8c\"\\xb6\\x81\\xc3tr\\x03e\\xb6\\x8d\\xbdH\\'\\x83\\x83_$\\xf8w\\xc2:\\xe7\\x8c5\\xfb_\\x0fh\\xbal\\xd3\\xdc\\xdd\\xce\\xb1C\\x0cQ\\x92\\xcc\\xccp\\x00\\x1d\\xcek\\xfa\\xbb\\xff\\x00\\x83{\\xbf\\xe0\\x95\\xa9\\xff\\x00\\x04\\xe9\\xfd\\x94\"\\xf1O\\xc4M\\x12\\xea\\xcf\\xe2?\\x8e\\xe1\\x8e\\xef\\xc4\\x96w\\xa8\\xa1\\xf4\\xd8\\x14\\xb7\\x91k\\x81\\xc8m\\xa7\\xccp\\xd8ey\\x19\\x08\\x1b+\\xea\\xa8S\\xbb?\\x1a\\xcc\\xf1.Sm\\xee\\xcf\\xbf\\xedmm\\xac\\xed\\xa3\\xb4\\xb5\\xb7X\\xa2\\x89\\x02E\\x1cj\\x02\\xa2\\x81\\x80\\xa0\\x0e\\x00\\x03\\x8c{QR\\xd1]\\xe7\\x844d\\xe7 W\\xe5\\xc7\\xfc\\x16c\\xfe\\to}\\xab\\xc9\\xac\\xfe\\xd6\\xff\\x00\\x024\\xf5y\\x18\\xc9}\\xe2\\xdd\\x1c\\x18\\xe2\\x8e%T\\x89|\\xd8\\x11F\\xe7y\\x1f{\\xbf\\\\\\x92Os_\\xa8\\xc9\\xb7p\\x01\\xbbt\\xa8\\xae \\xb7\\xba\\x85\\xedn\\xa1Y#\\x91\\n\\xc9\\x1b\\xa8*\\xcaF\\x08 \\xf5\\x04v\\xaeL^\\x12\\x8e6\\x8b\\xa7Q\\x7f\\xc0g\\xa3\\x95f\\xb8\\xbc\\x9f\\x1b\\x1cN\\x1d\\xea\\xb7]\\x1a\\xea\\x99\\xfc\\xa1x\\xb6\\x19\\xa2\\x99|\\xe6t\\n\\xdbC\\xb2aw\\x8eH\\xc1\\xf4\\xcdr^\"\\xd4n\\xad\\xb5\\x08\\xa6y\\xf7\\xc2#9U\\xc6\\t\\xc1\\xc7\\xe1\\x9cW\\xef\\xff\\x00\\xed\\xff\\x00\\xff\\x00\\x04,\\xfd\\x9f\\xff\\x00jki|o\\xf0E-\\xbe\\x1f\\xf8\\xbc\\xc9,\\xb7\\x06\\xca\\xdc\\xb6\\x9f\\xa8\\x92\\x8a\\x15^\\xdf!a \\xa0\\xc3E\\xb0~\\xf1\\xcb\\xab\\x9c\\x11\\xf9!\\xfb_\\x7f\\xc1\\x1e?n\\x7f\\xd9\\x82\\xe29\\xfcQ\\xf0\\xc2MoLb\\x8b\\x1e\\xab\\xe1\\xb5k\\xb8\\x1d\\xdbq\\x11\\x9d\\xab\\xb86\\x14\\x93\\xf2\\xe0z\\xd7\\xc7b2,E\\t\\xedu\\xdd\\x1f\\xb3\\xe5\\xbc}\\x82\\xc5\\xd3I\\xcb\\x96_\\xca\\xff\\x00G\\xb1\\xe0\\x9f\\x01<b\\x9a7\\x8eZ\\xeaI\\x0cyRc\\xd8p3\\xe9_D\\xdf\\xfcM\\xb5\\xd7\\xa2\\x8eG\\xbbP\\xb1\\xc7\\xf721\\xd3\\xbd|\\xd9e\\xe0\\x9f\\x16\\xf8;Q\\x96\\xc7^\\xf0\\xf5\\xcd\\x85\\xecyY-\\xae\\xe0h\\xe4\\x88\\xf7\\x05X\\x02+N\\xf3P\\xf1-\\xb6\\x9a!\\x92I\\x04\\x84\\x05O\\x90\\x00@\\xf5\\xc0\\xe6\\xbe[2\\xca%R\\xb727\\xc6\\xe6\\x941\\xb5Ud\\xf5\\xb5\\x8e\\xf7\\xe2\\xe7\\xc5\\xfb\\x7f\\txbu\\x8a\\xf1\\xa5\\x078M\\xd9\\xc1\\xc7\\x15\\xf1?\\x8b|Ss\\xadx\\x8e\\xe2\\xea\\xf2C\\xb9\\xd9\\x9b\\x8e:\\x9c\\xfe5\\xec?\\x11t\\xdf\\x11j\\xf6Q\\xd9\\\\\\\\\\x89\\x0c\\xa3lq\\xafRk\\x93\\xf0\\xb7\\xec\\x8b\\xf1\\x8f\\xe2\\x0e\\xb4l\\xbc)\\xe1\\x0b\\xfdBp\\xbb\\xda\\x0b\\x1bG\\x99\\x952\\x06HPH\\x19#\\x9fz\\xf5\\xb2\\x1c\\xae\\x14\\x13\\x93\\xd5\\xb3\\xca\\xc5\\xe6q\\xc3\\xd0j2\\xd5\\xeex\\xce\\xafsyst^59\\x1c{U\\x8f\\x02\\xfc-\\xf1o\\xc4-z\\x1d#B\\xd1\\xe6\\x99\\xe6\\x90(X\\xe3,I\\'\\xa0\\x03\\xa9\\xaf\\xd4\\x1f\\xd9S\\xfe\\r\\x95\\xfd\\xb5~3\\xde[j\\xff\\x00\\x11\\xbc1o\\xe0\\xed+\\xcf\\xb7\\xf3\\xa7\\xd7\\xae\\x02\\xca\\xd0I\\xc9\\x96(\\x93>f\\xd5\\xe4\\xa9d9 dg\\x8f\\xd8O\\xd8\\x03\\xfe\\x08y\\xfb\\x1e\\xfe\\xc2\\xd2\\xe9\\xde6\\x83\\xc3\\xdf\\xf0\\x95x\\xd6\\xc1\\x92hu\\xfd]\\x07\\x97g8\\\\\\x17\\xb6\\x80|\\xa9\\xcf\\xcc\\xac\\xfb\\xe4R\\x01\\x0e\\x08\\xaf\\xb8\\xc3af\\x96\\xd6G\\xc2fY\\xc5)\\xcd\\xbeng\\xe4|\\x1f\\xff\\x00\\x04\\x18\\xff\\x00\\x83\\x7f-\\xb4\\xcb\\xcd#\\xf6\\xbf\\xfd\\xaf\\xfc(~\\xcd\\x11K\\xaf\\txSP\\x8b\\x9b\\xb3\\xf7\\x92\\xea\\xe1\\x0f\\xfc\\xb3\\xe8U\\x0f\\xde\\xe0\\x9c\\x82\\x05~\\xe1\\xd3F0)A;\\x88\\xafR\\x10\\x8c\\x15\\x91\\xf2\\x95\\xabN\\xbdG)\\x0bE\\x14U\\x99\\x85\\x14Q@\\x05\\x14Q@\\x1c^\\xbf\\xf0\\x1b\\xe0o\\x8b5Y\\xb5\\xcf\\x14\\xfc\\x19\\xf0\\xa6\\xa5{9&{\\xcb\\xff\\x00\\x0f[M,\\x84\\xf5%\\xdd\\x0b\\x13\\xf8\\xd7\\xe7\\x1f\\xfc\\x16\\x0b\\xf6\\x05\\xfd\\x92~\\x11\\xf8W\\xc1\\x1a\\xb7\\xc2\\xff\\x00\\x83\\xd6z\\x15\\xce\\xa5\\xaf\\\\E\\x7f-\\x8d\\xdc\\xe7\\xceA\\x12\\xb0R\\x1d\\xd8\\x0c\\x12O\\x00QEx|C\\x18\\xff\\x00e\\xd6\\xd3\\xa7\\xea\\x8e\\x9c\\xb2\\xbdu\\x89\\x85\\xa4\\xf7\\xee\\xfb3\\xf2\\xf3\\xf6\\x86\\xf0G\\x84~\\x1d\\xea\\x1aN\\xb9\\xe1\\xff\\x00\\x0f@^=R\\xcc<3\\x96d\\x944\\xe00`\\x088#\\x83\\x828\\xaf\\xe9;\\xf6|\\xf8a\\xf0\\xab\\xc2\\xbf\\x0e\\xfc=\\xe2\\xcf\\x04\\xfc+\\xf0\\xe6\\x83{{\\xe1\\x9bF\\x9am\\x1bG\\x8a\\x07\\xda\\xf0\\xc6\\xc57\\x81\\xbd\\x978\\xfb\\xccI\\xc0$\\x93\\xcd\\x14W\\x9b\\xc2\\xbf\\xee\\xf5=\\x7fC\\xd9\\xcf\\xdbr\\xa7\\xe8\\xff\\x003\\xd1h\\xa2\\x8a\\xfa\\xe3\\xe7B\\x8a(\\xa0\\x02\\x8a(\\xa0\\x0f\\xff\\xd9'))"
      ]
     },
     "execution_count": 18,
     "metadata": {},
     "output_type": "execute_result"
    }
   ],
   "source": [
    "df_final.select('content').first()"
   ]
  },
  {
   "cell_type": "code",
   "execution_count": 20,
   "metadata": {},
   "outputs": [],
   "source": [
    "import cv2\n",
    "\n",
    "def image_to_vector(image_binary):\n",
    "    # Convertir l'image binaire en tableau numpy\n",
    "    image_array = np.frombuffer(image_binary, np.uint8)\n",
    "    # Lire l'image à l'aide d'OpenCV\n",
    "    image = cv2.imdecode(image_array, cv2.IMREAD_GRAYSCALE)  # ou cv2.IMREAD_COLOR pour des images en couleur\n",
    "    # Aplatir l'image en un vecteur 1D\n",
    "    image_vector = image.flatten()\n",
    "    # Normaliser les pixels (optionnel)\n",
    "    image_vector = image_vector / 255.0\n",
    "    return image_vector.tolist()"
   ]
  },
  {
   "cell_type": "code",
   "execution_count": 24,
   "metadata": {},
   "outputs": [],
   "source": [
    "from pyspark.sql.types import ArrayType, FloatType\n",
    "\n",
    "image_to_vector_udf = udf(image_to_vector, ArrayType(FloatType()))"
   ]
  },
  {
   "cell_type": "code",
   "execution_count": 25,
   "metadata": {},
   "outputs": [],
   "source": [
    "def list_to_vector(image_list):\n",
    "    return Vectors.dense(image_list)\n",
    "\n",
    "list_to_vector_udf = udf(list_to_vector, VectorUDT())"
   ]
  },
  {
   "cell_type": "code",
   "execution_count": 28,
   "metadata": {},
   "outputs": [],
   "source": [
    "df = df.withColumn('image_vector', list_to_vector_udf('image_vector'))"
   ]
  },
  {
   "cell_type": "code",
   "execution_count": 29,
   "metadata": {},
   "outputs": [
    {
     "name": "stderr",
     "output_type": "stream",
     "text": [
      "                                                                                \r"
     ]
    }
   ],
   "source": [
    "from pyspark.ml.feature import VectorAssembler\n",
    "assembler = VectorAssembler(inputCols=['image_vector'],outputCol='features')\n",
    "df_test = assembler.transform(df)"
   ]
  },
  {
   "cell_type": "code",
   "execution_count": 30,
   "metadata": {},
   "outputs": [
    {
     "name": "stderr",
     "output_type": "stream",
     "text": [
      "                                                                                \r"
     ]
    },
    {
     "name": "stdout",
     "output_type": "stream",
     "text": [
      "+--------------------+-------------------+------+--------------------+--------------+--------------------+--------------------+\n",
      "|                path|   modificationTime|length|             content|         label|        image_vector|            features|\n",
      "+--------------------+-------------------+------+--------------------+--------------+--------------------+--------------------+\n",
      "|file:/Users/gaeld...|2021-09-12 19:25:42|  5656|[FF D8 FF E0 00 1...|Apple Braeburn|[1.0,1.0,1.0,1.0,...|[1.0,1.0,1.0,1.0,...|\n",
      "|file:/Users/gaeld...|2021-09-12 19:25:42|  5627|[FF D8 FF E0 00 1...|Apple Braeburn|[1.0,1.0,1.0,1.0,...|[1.0,1.0,1.0,1.0,...|\n",
      "|file:/Users/gaeld...|2021-09-12 19:25:42|  5613|[FF D8 FF E0 00 1...|Apple Braeburn|[1.0,1.0,1.0,1.0,...|[1.0,1.0,1.0,1.0,...|\n",
      "|file:/Users/gaeld...|2021-09-12 19:25:42|  5611|[FF D8 FF E0 00 1...|Apple Braeburn|[1.0,1.0,1.0,1.0,...|[1.0,1.0,1.0,1.0,...|\n",
      "|file:/Users/gaeld...|2021-09-12 19:25:42|  5611|[FF D8 FF E0 00 1...|Apple Braeburn|[1.0,1.0,1.0,1.0,...|[1.0,1.0,1.0,1.0,...|\n",
      "|file:/Users/gaeld...|2021-09-12 19:25:42|  5606|[FF D8 FF E0 00 1...|Apple Braeburn|[1.0,1.0,1.0,1.0,...|[1.0,1.0,1.0,1.0,...|\n",
      "|file:/Users/gaeld...|2021-09-12 19:25:42|  5606|[FF D8 FF E0 00 1...|Apple Braeburn|[1.0,1.0,1.0,1.0,...|[1.0,1.0,1.0,1.0,...|\n",
      "|file:/Users/gaeld...|2021-09-12 19:25:42|  5602|[FF D8 FF E0 00 1...|Apple Braeburn|[1.0,1.0,1.0,1.0,...|[1.0,1.0,1.0,1.0,...|\n",
      "|file:/Users/gaeld...|2021-09-12 19:25:42|  5599|[FF D8 FF E0 00 1...|Apple Braeburn|[1.0,1.0,1.0,1.0,...|[1.0,1.0,1.0,1.0,...|\n",
      "|file:/Users/gaeld...|2021-09-12 19:25:42|  5597|[FF D8 FF E0 00 1...|Apple Braeburn|[1.0,1.0,1.0,1.0,...|[1.0,1.0,1.0,1.0,...|\n",
      "|file:/Users/gaeld...|2021-09-12 19:25:42|  5594|[FF D8 FF E0 00 1...|Apple Braeburn|[1.0,1.0,1.0,1.0,...|[1.0,1.0,1.0,1.0,...|\n",
      "|file:/Users/gaeld...|2021-09-12 19:25:42|  5591|[FF D8 FF E0 00 1...|Apple Braeburn|[1.0,1.0,1.0,1.0,...|[1.0,1.0,1.0,1.0,...|\n",
      "|file:/Users/gaeld...|2021-09-12 19:25:42|  5589|[FF D8 FF E0 00 1...|Apple Braeburn|[1.0,1.0,1.0,1.0,...|[1.0,1.0,1.0,1.0,...|\n",
      "|file:/Users/gaeld...|2021-09-12 19:25:42|  5584|[FF D8 FF E0 00 1...|Apple Braeburn|[1.0,1.0,1.0,1.0,...|[1.0,1.0,1.0,1.0,...|\n",
      "|file:/Users/gaeld...|2021-09-12 19:25:42|  5584|[FF D8 FF E0 00 1...|Apple Braeburn|[1.0,1.0,1.0,1.0,...|[1.0,1.0,1.0,1.0,...|\n",
      "|file:/Users/gaeld...|2021-09-12 19:25:42|  5580|[FF D8 FF E0 00 1...|Apple Braeburn|[1.0,1.0,1.0,1.0,...|[1.0,1.0,1.0,1.0,...|\n",
      "|file:/Users/gaeld...|2021-09-12 19:25:42|  5576|[FF D8 FF E0 00 1...|Apple Braeburn|[1.0,1.0,1.0,1.0,...|[1.0,1.0,1.0,1.0,...|\n",
      "|file:/Users/gaeld...|2021-09-12 19:25:42|  5575|[FF D8 FF E0 00 1...|Apple Braeburn|[1.0,1.0,1.0,1.0,...|[1.0,1.0,1.0,1.0,...|\n",
      "|file:/Users/gaeld...|2021-09-12 19:25:42|  5574|[FF D8 FF E0 00 1...|Apple Braeburn|[1.0,1.0,1.0,1.0,...|[1.0,1.0,1.0,1.0,...|\n",
      "|file:/Users/gaeld...|2021-09-12 19:25:42|  5572|[FF D8 FF E0 00 1...|Apple Braeburn|[1.0,1.0,1.0,1.0,...|[1.0,1.0,1.0,1.0,...|\n",
      "+--------------------+-------------------+------+--------------------+--------------+--------------------+--------------------+\n",
      "only showing top 20 rows\n",
      "\n"
     ]
    }
   ],
   "source": [
    "df_test.show()"
   ]
  },
  {
   "cell_type": "code",
   "execution_count": null,
   "metadata": {},
   "outputs": [],
   "source": []
  }
 ],
 "metadata": {
  "kernelspec": {
   "display_name": "test-spark",
   "language": "python",
   "name": "python3"
  },
  "language_info": {
   "codemirror_mode": {
    "name": "ipython",
    "version": 3
   },
   "file_extension": ".py",
   "mimetype": "text/x-python",
   "name": "python",
   "nbconvert_exporter": "python",
   "pygments_lexer": "ipython3",
   "version": "3.10.9"
  }
 },
 "nbformat": 4,
 "nbformat_minor": 2
}

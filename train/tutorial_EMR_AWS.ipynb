{
 "cells": [
  {
   "cell_type": "markdown",
   "metadata": {},
   "source": [
    "# Tutorial Deployment of the solution on the cloud\n",
    "\n",
    "The best known service provider which currently offers the offer\n",
    "the largest in cloud computing is **Amazon Web Services** (AWS).<br />\n",
    "\n",
    "The primary objective is to be able, thanks to AWS, to <u>rent computing power on demand</u>.\n",
    "The idea being to be able, whatever the workload,\n",
    "obtain enough computing power to be able to process our data,\n",
    "even if the volume of data were to increase significantly.\n",
    "<br>\n",
    "\n",
    "The ability to use this computing power on demand\n",
    "allows you to drastically reduce costs if you compare the costs of renting\n",
    "of a complete server over a fixed period (1 month, 1 year for example)."
   ]
  },
  {
   "cell_type": "markdown",
   "metadata": {},
   "source": [
    "## **PAAS** Solution (Platform As A Service)"
   ]
  },
  {
   "cell_type": "markdown",
   "metadata": {},
   "source": [
    "- **AWS** provides a lot of different services, in one of these <br />\n",
    "   there is an offer that allows you to rent **EC2 instances** <br />\n",
    "   with pre-installed and configured applications: this is the **EMR service**.\n",
    " - **Spark** will already be installed there\n",
    " - Possibility to request the installation of **Tensorflow** as well as **JupyterHub**\n",
    " - Possibility of indicating **additional packages** to install <br />\n",
    "   when initializing the server **on all machines in the cluster**.\n",
    " - <u>Advantages</u>:\n",
    "     - Ease of implementation\n",
    "         - It takes very little configuration to get <br />\n",
    "           a perfectly functional environment\n",
    "     - Speed ​​of implementation\n",
    "         - Once the first configuration is completed, it is very easy <br />\n",
    "           and very fast to recreate identical clusters which will be <br />\n",
    "           available almost instantly (the time to instantiate the <br />\n",
    "           servers (approximately 15/20 minutes)\n",
    "     - Hardware and software solutions optimized by AWS engineers\n",
    "         - We know that the installed versions will work <br />\n",
    "           and that the proposed architecture is optimized\n",
    "     - Stability of the solution\n",
    "    - Scalable solution\n",
    "        It is easy to obtain an up-to-date version for each new instantiation <br />\n",
    "        of each package, being guaranteed of their compatibility with the rest of the environment.\n",
    "  - Safer\n",
    "\t- Any security patches will be automatically updated <br />\n",
    "      at each new instantiation of the EMR cluster.\n",
    " - <u>Disadvantages</u>:\n",
    "     - Perhaps a certain lack of freedom on the version of the packages available? <br />\n",
    "       Although I haven't noticed this problem."
   ]
  },
  {
   "cell_type": "markdown",
   "metadata": {},
   "source": [
    "## Choice of data storage solution: Amazon S3\n",
    "\n",
    "<u>Amazon offers a very effective solution for managing data storage</u>: **Amazon S3**. <br />\n",
    "S3 for Amazon Simple Storage Service."
   ]
  },
  {
   "cell_type": "markdown",
   "metadata": {},
   "source": [
    "## Configuring the work environment\n",
    "\n",
    "The first step is to install and configure [**AWS Cli**](https://aws.amazon.com/fr/cli/),\n",
    "This is the **AWS command line interface**.<br />\n",
    "It allows us to **interact with different AWS services**, like **S3** for example.\n",
    "\n",
    "To be able to use **AWS Cli**, you must configure it by previously creating\n",
    "a user to whom we will give the authorizations we need.<br />\n",
    "\n",
    "<u>Users and their rights are managed via the AWS **AMI**</u> service.\n",
    "\n",
    "Once the user is created and its permissions configured we create a **key pair**\n",
    "which will allow us to **connect without having to systematically enter our login/password**.<br />\n",
    "\n",
    "We must also configure **SSH access** to our future EC2 servers. <br />\n",
    "Here too, via a key system which frees us from having to authenticate ourselves \"by hand\" at each connection."
   ]
  },
  {
   "cell_type": "markdown",
   "metadata": {},
   "source": []
  }
 ],
 "metadata": {
  "language_info": {
   "name": "python"
  }
 },
 "nbformat": 4,
 "nbformat_minor": 2
}
